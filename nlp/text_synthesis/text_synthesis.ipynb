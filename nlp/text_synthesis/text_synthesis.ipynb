{
 "cells": [
  {
   "cell_type": "code",
   "execution_count": 1,
   "metadata": {},
   "outputs": [],
   "source": [
    "import numpy as np\n",
    "import random\n",
    "import torch\n",
    "import torch.optim as optim\n",
    "from torch.utils.data import Dataset, DataLoader\n",
    "import torch.nn as nn\n",
    "import torch.nn.functional as F"
   ]
  },
  {
   "cell_type": "code",
   "execution_count": 2,
   "metadata": {},
   "outputs": [],
   "source": [
    "PATH = \"data/\"\n",
    "device = \"cuda\"\n",
    "file_name = f\"{PATH}nietzsche.txt\"\n",
    "seed = 42"
   ]
  },
  {
   "cell_type": "code",
   "execution_count": 3,
   "metadata": {},
   "outputs": [],
   "source": [
    "class CharDataset(Dataset):\n",
    "    def __init__(self, file_name, seq_length):\n",
    "        with open(file_name, \"r\") as file:\n",
    "            self.text = file.read()\n",
    "        \n",
    "        self.vocab = sorted(list(set(self.text)))\n",
    "        self.vocab_size = len(self.vocab)\n",
    "        \n",
    "        self.vocab_indices = {c: i for i, c in enumerate(self.vocab)}\n",
    "        self.indices_vocab = {i: c for i, c in enumerate(self.vocab)}\n",
    "        self.idx = [self.vocab_indices[c] for c in self.text]\n",
    "        \n",
    "        x = np.stack([self.idx[i] for i in range(len(self.idx) - 1)])\n",
    "        y = np.stack([self.idx[i+1] for i in range(len(self.idx) - 1)])\n",
    "        self.x = torch.from_numpy(x).long().to(device)\n",
    "        self.y = torch.from_numpy(y).long().to(device)\n",
    "        \n",
    "        self.seq_length = seq_length\n",
    "\n",
    "    def __len__(self):\n",
    "        return int(len(self.text) / self.seq_length)\n",
    "\n",
    "    def random_sequence(self):\n",
    "        start_index = random.randint(0, len(self.x) - self.seq_length)\n",
    "        end_index = start_index + self.seq_length\n",
    "        return self.x[start_index:end_index], self.y[start_index:end_index]\n",
    "\n",
    "    def __getitem__(self, idx):\n",
    "        return self.random_sequence()"
   ]
  },
  {
   "cell_type": "code",
   "execution_count": 4,
   "metadata": {},
   "outputs": [],
   "source": [
    "class RNN(nn.Module):\n",
    "    def __init__(self, input_size, hidden_size, output_size):\n",
    "        super().__init__()\n",
    "        self.input_size = input_size\n",
    "        self.hidden_size = hidden_size\n",
    "        self.output_size = output_size\n",
    "        self.n_layers = 1\n",
    "        \n",
    "        self.encoder = nn.Embedding(self.input_size, self.hidden_size)\n",
    "        self.gru = nn.GRU(hidden_size, hidden_size, self.n_layers)\n",
    "        self.decoder = nn.Linear(self.hidden_size, self.output_size)\n",
    "    \n",
    "    def forward(self, input, hidden):\n",
    "        bs = input.shape[0]\n",
    "        input = self.encoder(input.view(1, -1))\n",
    "        output, hidden = self.gru(input.view(1, bs, -1), hidden)\n",
    "        output = self.decoder(output.view(bs, -1))\n",
    "        output = F.log_softmax(output, dim=1)\n",
    "        return output, hidden\n",
    "\n",
    "    def init_hidden(self, bs):\n",
    "        return torch.tensor(torch.zeros(self.n_layers, bs, self.hidden_size)).to(device)"
   ]
  },
  {
   "cell_type": "code",
   "execution_count": 5,
   "metadata": {},
   "outputs": [],
   "source": [
    "batch_size = 256\n",
    "seq_length = 64\n",
    "char_dataset = CharDataset(file_name, seq_length)\n",
    "char_loader = DataLoader(char_dataset, batch_size=batch_size, shuffle=True, num_workers=0)"
   ]
  },
  {
   "cell_type": "code",
   "execution_count": 6,
   "metadata": {},
   "outputs": [],
   "source": [
    "n_hidden = 128\n",
    "n_factor = 50\n",
    "\n",
    "n_epochs = 100\n",
    "lr = 1e-2"
   ]
  },
  {
   "cell_type": "code",
   "execution_count": 7,
   "metadata": {},
   "outputs": [],
   "source": [
    "torch.manual_seed(seed)\n",
    "vocab_size = char_dataset.vocab_size\n",
    "model = RNN(vocab_size, n_hidden, vocab_size).to(device)\n",
    "optimizer = optim.Adam(model.parameters(), lr=lr)"
   ]
  },
  {
   "cell_type": "code",
   "execution_count": 8,
   "metadata": {},
   "outputs": [
    {
     "name": "stdout",
     "output_type": "stream",
     "text": [
      "Loss at epoch 0: 2.51995\n",
      "Loss at epoch 5: 1.60903\n",
      "Loss at epoch 10: 1.51938\n",
      "-----------------------------\n",
      "Decreasing learning rate to: 0.005\n",
      "-----------------------------\n",
      "Loss at epoch 15: 1.46629\n",
      "Loss at epoch 20: 1.44726\n",
      "-----------------------------\n",
      "Decreasing learning rate to: 0.0025\n",
      "-----------------------------\n",
      "Loss at epoch 25: 1.42147\n",
      "Loss at epoch 30: 1.41101\n",
      "-----------------------------\n",
      "Decreasing learning rate to: 0.00125\n",
      "-----------------------------\n",
      "Loss at epoch 35: 1.39633\n",
      "Loss at epoch 40: 1.39206\n",
      "-----------------------------\n",
      "Decreasing learning rate to: 0.000625\n",
      "-----------------------------\n",
      "Loss at epoch 45: 1.38521\n",
      "Loss at epoch 50: 1.37702\n",
      "-----------------------------\n",
      "Decreasing learning rate to: 0.0003125\n",
      "-----------------------------\n",
      "Loss at epoch 55: 1.37642\n",
      "Loss at epoch 60: 1.3739\n",
      "-----------------------------\n",
      "Decreasing learning rate to: 0.00015625\n",
      "-----------------------------\n",
      "Loss at epoch 65: 1.37081\n",
      "Loss at epoch 70: 1.37656\n",
      "-----------------------------\n",
      "Decreasing learning rate to: 7.8125e-05\n",
      "-----------------------------\n",
      "Loss at epoch 75: 1.37143\n",
      "Loss at epoch 80: 1.37181\n",
      "-----------------------------\n",
      "Decreasing learning rate to: 3.90625e-05\n",
      "-----------------------------\n",
      "Loss at epoch 85: 1.37572\n",
      "Loss at epoch 90: 1.37408\n",
      "-----------------------------\n",
      "Decreasing learning rate to: 1.953125e-05\n",
      "-----------------------------\n",
      "Loss at epoch 95: 1.37005\n"
     ]
    }
   ],
   "source": [
    "loss_list = []\n",
    "torch.manual_seed(seed)\n",
    "for epoch in range(0, n_epochs):\n",
    "    batch_loss = 0\n",
    "    for _, (x, y) in enumerate(char_loader):\n",
    "            hidden = model.init_hidden(x.shape[0])\n",
    "            model.zero_grad()\n",
    "            loss = 0\n",
    "\n",
    "            for c in range(seq_length):\n",
    "                output, hidden = model(x[:, c], hidden)\n",
    "                loss += F.nll_loss(output, y[:, c])\n",
    "            \n",
    "            loss.backward()\n",
    "            optimizer.step()\n",
    "            batch_loss += loss\n",
    "    \n",
    "    batch_loss = np.round(batch_loss.item() / (seq_length * len(char_loader)), 5)\n",
    "    loss_list.append(batch_loss)\n",
    "    \n",
    "    if epoch % 5 == 0:\n",
    "        print(\"Loss at epoch {}: {}\".format(epoch, batch_loss))\n",
    "\n",
    "    if epoch % 10 == 0 and epoch != 0:\n",
    "        for param_group in optimizer.param_groups:\n",
    "            param_group['lr'] = param_group[\"lr\"]*0.5\n",
    "        print(\"-----------------------------\")\n",
    "        print(\"Decreasing learning rate to: {}\".format(param_group[\"lr\"]))\n",
    "        print(\"-----------------------------\")"
   ]
  },
  {
   "cell_type": "code",
   "execution_count": 9,
   "metadata": {},
   "outputs": [],
   "source": [
    "def string_2_tensor(string):\n",
    "    tensor = torch.zeros(len(string)).long()\n",
    "    for c in range(len(string)):\n",
    "        tensor[c] = char_dataset.vocab_indices[string[c]]\n",
    "    return tensor"
   ]
  },
  {
   "cell_type": "code",
   "execution_count": 10,
   "metadata": {},
   "outputs": [],
   "source": [
    "def generate_text(start_string=\"T\", predict_len=100, temperature=0.8):\n",
    "    \n",
    "    hidden = model.init_hidden(bs=1)\n",
    "    start_input = string_2_tensor(start_string)\n",
    "    predicted = start_string\n",
    "\n",
    "    # Use start string to warm up the hidden state\n",
    "    for p in range(len(start_string) - 1):\n",
    "        _, hidden = model(start_input[p], hidden)\n",
    "    inp = start_input[-1].view(1).to(device)\n",
    "\n",
    "    for p in range(predict_len):\n",
    "        output, hidden = model(inp, hidden)\n",
    "\n",
    "        # Sample from the network as a multinomial distribution\n",
    "        output_dist = output.data.view(-1).div(temperature).exp()\n",
    "        top_i = torch.multinomial(output_dist, 1)[0]\n",
    "\n",
    "        # Add predicted character to string and use as next input\n",
    "        predicted_char = char_dataset.indices_vocab[top_i.item()]\n",
    "        predicted += predicted_char\n",
    "        inp = string_2_tensor(predicted_char).to(device)\n",
    "    return predicted"
   ]
  },
  {
   "cell_type": "code",
   "execution_count": 11,
   "metadata": {},
   "outputs": [
    {
     "name": "stdout",
     "output_type": "stream",
     "text": [
      "The longer, simply the art probably have continger to his low in the present of the latter the bad th\n"
     ]
    }
   ],
   "source": [
    "print(generate_text())"
   ]
  }
 ],
 "metadata": {
  "kernelspec": {
   "display_name": "Python 3",
   "language": "python",
   "name": "python3"
  },
  "language_info": {
   "codemirror_mode": {
    "name": "ipython",
    "version": 3
   },
   "file_extension": ".py",
   "mimetype": "text/x-python",
   "name": "python",
   "nbconvert_exporter": "python",
   "pygments_lexer": "ipython3",
   "version": "3.6.4"
  }
 },
 "nbformat": 4,
 "nbformat_minor": 2
}
