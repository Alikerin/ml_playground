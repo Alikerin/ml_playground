{
 "cells": [
  {
   "cell_type": "code",
   "execution_count": 1,
   "metadata": {},
   "outputs": [],
   "source": [
    "import numpy as np\n",
    "import scipy\n",
    "from scipy.signal import spectrogram\n",
    "import scipy.io.wavfile as wavfile\n",
    "import matplotlib.pyplot as plt\n",
    "import glob\n",
    "import random\n",
    "\n",
    "import torch\n",
    "import torch.nn as nn\n",
    "import torch.nn.functional as F\n",
    "import torch.optim as optim\n",
    "from torch.utils.data import Dataset, DataLoader"
   ]
  },
  {
   "cell_type": "code",
   "execution_count": 2,
   "metadata": {},
   "outputs": [],
   "source": [
    "audio_path = \"data/train/audio/*/*\"\n",
    "device = \"cuda\"\n",
    "seed = 42\n",
    "train_size = 0.95\n",
    "\n",
    "spectrogram_params = {\n",
    "    \"fs\": 16e3,\n",
    "    \"nperseg\": 256,\n",
    "    \"noverlap\": 128\n",
    "}\n",
    "\n",
    "# Mean / std is calculated from training set\n",
    "spectrogram_mean = 860.5265\n",
    "spectrogram_std = 23122.176"
   ]
  },
  {
   "cell_type": "code",
   "execution_count": 3,
   "metadata": {},
   "outputs": [],
   "source": [
    "file = \"data/train/audio/yes/0a7c2a8d_nohash_0.wav\"\n",
    "rate, data = wavfile.read(file)"
   ]
  },
  {
   "cell_type": "code",
   "execution_count": 4,
   "metadata": {},
   "outputs": [
    {
     "name": "stdout",
     "output_type": "stream",
     "text": [
      "Frequency dim: (129,), Time dim: (124,)\n"
     ]
    },
    {
     "data": {
      "image/png": "[encoded data removed]",
      "text/plain": [
       "<Figure size 1080x576 with 2 Axes>"
      ]
     },
     "metadata": {
      "needs_background": "light"
     },
     "output_type": "display_data"
    }
   ],
   "source": [
    "fig, ax = plt.subplots(1, 2, figsize=(15, 8))\n",
    "\n",
    "f, t, Sxx = spectrogram(data, **spectrogram_params)\n",
    "ax[1].pcolormesh(t, f, Sxx)\n",
    "ax[1].set_xlabel(\"Time [s]\")\n",
    "ax[1].set_ylabel(\"Frequency [Hz]\")\n",
    "\n",
    "ax[0].plot(np.arange(len(data)) / len(data), data)\n",
    "ax[0].set_xlabel(\"Time [s]\")\n",
    "ax[0].set_ylabel(\"Amplitude []\")\n",
    "\n",
    "print(f\"Frequency dim: {f.shape}, Time dim: {t.shape}\")\n",
    "plt.show()"
   ]
  },
  {
   "cell_type": "code",
   "execution_count": 5,
   "metadata": {},
   "outputs": [
    {
     "name": "stdout",
     "output_type": "stream",
     "text": [
      "Number of classes: 30\n"
     ]
    }
   ],
   "source": [
    "files = glob.glob(audio_path)\n",
    "files = [file for file in files if \"_background_noise_\" not in file]\n",
    "\n",
    "labels = [file.split(\"\\\\\")[1].strip() for file in files]\n",
    "\n",
    "label_to_index = {}\n",
    "for index, label in enumerate(set(labels)):\n",
    "    label_to_index[label] = index\n",
    "\n",
    "print(f\"Number of classes: {len(label_to_index)}\")"
   ]
  },
  {
   "cell_type": "code",
   "execution_count": 6,
   "metadata": {},
   "outputs": [],
   "source": [
    "random.seed(seed)\n",
    "random.shuffle(files)\n",
    "train_files = files[0:int(train_size * len(files))]\n",
    "test_files = files[int(train_size * len(files)) + 1:]"
   ]
  },
  {
   "cell_type": "code",
   "execution_count": 7,
   "metadata": {},
   "outputs": [],
   "source": [
    "class AudioData(Dataset):\n",
    "    def __init__(self, files, label_to_index, spectrogram_params, spectrogram_mean, spectrogram_std):\n",
    "        self.files = files\n",
    "        self.label_to_index = label_to_index\n",
    "        self.spectrogram_params = spectrogram_params\n",
    "        self.spectrogram_mean = spectrogram_mean\n",
    "        self.spectrogram_std = spectrogram_std\n",
    "\n",
    "        self.X = []\n",
    "        self.Y = []\n",
    "\n",
    "        for file in self.files:\n",
    "            x, y = self.create_input_target(file)\n",
    "            self.X.append(x)\n",
    "            self.Y.append(y)\n",
    "\n",
    "        self.X = np.concatenate(self.X)\n",
    "        self.X = (self.X - self.spectrogram_mean) / (self.spectrogram_std)\n",
    "        self.X = torch.from_numpy(self.X).float()\n",
    "\n",
    "        self.Y = np.concatenate(self.Y)\n",
    "        self.Y = torch.from_numpy(self.Y).long()\n",
    "\n",
    "    def read_wav(self, file, nsamples=16000):\n",
    "        _, data = wavfile.read(file)\n",
    "\n",
    "        if type(data[0]) != np.int16:\n",
    "            raise ValueError(\"Not int-16 data!\")\n",
    "\n",
    "        # Padding if sequence is too short\n",
    "        if data.size < nsamples:\n",
    "            return np.pad(data, (nsamples - data.size, 0), mode=\"constant\", constant_values=0)\n",
    "        else:\n",
    "            return data[0:nsamples]\n",
    "\n",
    "    def create_input_target(self, file):\n",
    "        label = file.split(\"\\\\\")[1].strip()\n",
    "        assert(label in label_to_index)\n",
    "\n",
    "        data = self.read_wav(file)\n",
    "        f, t, x = spectrogram(data, **self.spectrogram_params)\n",
    "        x = np.transpose(x)\n",
    "        x = x[None, :, :]\n",
    "\n",
    "        y = np.array(self.label_to_index[label])\n",
    "        y = y[None]\n",
    "        return x, y\n",
    "\n",
    "    def __len__(self):\n",
    "        return len(self.files)\n",
    "\n",
    "    def __getitem__(self, idx):\n",
    "        x = self.X[idx, :, :].to(device)\n",
    "        y = self.Y[idx].to(device)\n",
    "        return x, y"
   ]
  },
  {
   "cell_type": "code",
   "execution_count": 8,
   "metadata": {},
   "outputs": [],
   "source": [
    "batch_size = 128\n",
    "train_dataset = AudioData(train_files, label_to_index, spectrogram_params, spectrogram_mean, spectrogram_std)\n",
    "train_dataloader = DataLoader(train_dataset, batch_size=batch_size, num_workers=0)\n",
    "\n",
    "test_dataset = AudioData(test_files, label_to_index, spectrogram_params, spectrogram_mean, spectrogram_std)\n",
    "test_dataloader = DataLoader(test_dataset, batch_size=batch_size, num_workers=0)"
   ]
  },
  {
   "cell_type": "code",
   "execution_count": 9,
   "metadata": {},
   "outputs": [],
   "source": [
    "class RNN(nn.Module):\n",
    "    def __init__(self, input_dim, num_classes=31, num_hidden=256, num_layers=1, p=0.6):\n",
    "        super().__init__()\n",
    "        self.num_layers = num_layers\n",
    "\n",
    "        self.gru = nn.GRU(input_dim, num_hidden, num_layers=self.num_layers, batch_first=True)\n",
    "        self.linear = nn.Linear(3 * num_hidden, num_classes)\n",
    "        self.dropout = nn.Dropout(p=p)\n",
    "\n",
    "    def forward(self, x):\n",
    "        output, hT = self.gru(x)\n",
    "\n",
    "        # Concatenate last hidden, max over all hidden (per dim) and average over all hidden\n",
    "        output = torch.cat([\n",
    "            hT[0, :, :],\n",
    "            torch.max(output, dim=1)[0],\n",
    "            torch.mean(output, dim=1)\n",
    "        ], dim=1)\n",
    "\n",
    "        output = self.dropout(output)\n",
    "        output = self.linear(output)\n",
    "        return F.log_softmax(output, dim=1)"
   ]
  },
  {
   "cell_type": "code",
   "execution_count": 10,
   "metadata": {},
   "outputs": [],
   "source": [
    "torch.manual_seed(seed)\n",
    "model = RNN(f.shape[0]).to(device)"
   ]
  },
  {
   "cell_type": "code",
   "execution_count": 11,
   "metadata": {},
   "outputs": [],
   "source": [
    "num_epochs = 20\n",
    "lr = 1e-3\n",
    "wd = 1e-2\n",
    "\n",
    "optimizer = optim.AdamW(model.parameters(), lr=lr, weight_decay=wd)"
   ]
  },
  {
   "cell_type": "code",
   "execution_count": 12,
   "metadata": {},
   "outputs": [
    {
     "name": "stdout",
     "output_type": "stream",
     "text": [
      "----------- Epoch 0 -----------\n",
      "Train loss: 0.020265792958555275\n",
      "Test loss: 0.017244303236818977\n",
      "Train accuracy: 0.2400110446985447\n",
      "Test accuracy: 0.4099559291050984\n",
      "----------- Epoch 5 -----------\n",
      "Train loss: 0.006461218133497651\n",
      "Test loss: 0.006783040666268168\n",
      "Train accuracy: 0.7546157390808613\n",
      "Test accuracy: 0.7657585464991056\n",
      "----------- Epoch 10 -----------\n",
      "Train loss: 0.004472602233373402\n",
      "Test loss: 0.005254557168182845\n",
      "Train accuracy: 0.8309600028575335\n",
      "Test accuracy: 0.8230168269230769\n",
      "----------- Epoch 15 -----------\n",
      "Train loss: 0.003502380794588004\n",
      "Test loss: 0.004603591285900682\n",
      "Train accuracy: 0.8665097571460224\n",
      "Test accuracy: 0.8487580120563507\n",
      "----------- Epoch 19 -----------\n",
      "Train loss: 0.0029453167016481535\n",
      "Test loss: 0.004584475774636381\n",
      "Train accuracy: 0.8876600596364471\n",
      "Test accuracy: 0.8603098300787119\n"
     ]
    }
   ],
   "source": [
    "torch.manual_seed(seed)\n",
    "for epoch in range(num_epochs):\n",
    "    train_loss = 0.0\n",
    "    train_acc = 0.0\n",
    "\n",
    "    model.train()\n",
    "    for _, (x, y) in enumerate(train_dataloader):\n",
    "        optimizer.zero_grad()\n",
    "\n",
    "        y_hat = model(x)\n",
    "        batch_loss = F.nll_loss(y_hat, y)\n",
    "        batch_loss.backward()\n",
    "        optimizer.step()\n",
    "\n",
    "        batch_loss = batch_loss.detach().cpu().numpy()\n",
    "        train_loss += batch_loss / len(y)\n",
    "\n",
    "        batch_acc = torch.sum(torch.argmax(y_hat, dim=1) == y).float() / len(y)\n",
    "        batch_acc = batch_acc.detach().cpu().numpy()\n",
    "        train_acc += batch_acc\n",
    "\n",
    "    train_loss = train_loss / len(train_dataloader)\n",
    "    train_acc = train_acc / len(train_dataloader)\n",
    "\n",
    "    test_loss = 0.0\n",
    "    test_acc = 0.0\n",
    "\n",
    "    model.eval()\n",
    "    for _, (x, y) in enumerate(test_dataloader):\n",
    "        y_hat = model(x)\n",
    "        batch_loss = F.nll_loss(y_hat, y)\n",
    "\n",
    "        batch_loss = batch_loss.detach().cpu().numpy()\n",
    "        test_loss += batch_loss / len(y)\n",
    "\n",
    "        batch_acc = torch.sum(torch.argmax(y_hat, dim=1) == y).float() / len(y)\n",
    "        batch_acc = batch_acc.detach().cpu().numpy()\n",
    "        test_acc += batch_acc\n",
    "\n",
    "    test_loss = test_loss / len(test_dataloader)\n",
    "    test_acc = test_acc / len(test_dataloader)\n",
    "\n",
    "    if epoch % 5 == 0 or epoch == (num_epochs - 1):\n",
    "        print(f\"----------- Epoch {epoch} -----------\")\n",
    "        print(f\"Train loss: {train_loss}\")\n",
    "        print(f\"Test loss: {test_loss}\")\n",
    "        print(f\"Train accuracy: {train_acc}\")\n",
    "        print(f\"Test accuracy: {test_acc}\")"
   ]
  }
 ],
 "metadata": {
  "kernelspec": {
   "display_name": "Python 3",
   "language": "python",
   "name": "python3"
  },
  "language_info": {
   "codemirror_mode": {
    "name": "ipython",
    "version": 3
   },
   "file_extension": ".py",
   "mimetype": "text/x-python",
   "name": "python",
   "nbconvert_exporter": "python",
   "pygments_lexer": "ipython3",
   "version": "3.7.3"
  }
 },
 "nbformat": 4,
 "nbformat_minor": 4
}
