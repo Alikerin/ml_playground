{
 "cells": [
  {
   "cell_type": "code",
   "execution_count": 1,
   "metadata": {},
   "outputs": [],
   "source": [
    "from collections import Counter\n",
    "import numpy as np"
   ]
  },
  {
   "cell_type": "code",
   "execution_count": 2,
   "metadata": {},
   "outputs": [],
   "source": [
    "import torch\n",
    "import torch.nn as nn\n",
    "from torch.utils.data import Dataset, DataLoader\n",
    "import torch.optim as optim\n",
    "import torch.nn.functional as F"
   ]
  },
  {
   "cell_type": "code",
   "execution_count": 3,
   "metadata": {},
   "outputs": [],
   "source": [
    "data_path = \"data/text8.txt\""
   ]
  },
  {
   "cell_type": "code",
   "execution_count": 4,
   "metadata": {},
   "outputs": [],
   "source": [
    "with open(data_path) as file:\n",
    "    data = file.read()\n",
    "\n",
    "data = data.split(\" \")"
   ]
  },
  {
   "cell_type": "code",
   "execution_count": 5,
   "metadata": {},
   "outputs": [],
   "source": [
    "freq = Counter(data)"
   ]
  },
  {
   "cell_type": "code",
   "execution_count": 6,
   "metadata": {},
   "outputs": [],
   "source": [
    "freq_threshold = 5\n",
    "\n",
    "vocab = dict()\n",
    "count = 0\n",
    "\n",
    "for key, value in freq.items():\n",
    "    if value > freq_threshold:\n",
    "        vocab[key] = count\n",
    "        count += 1\n",
    "    \n",
    "inverse_vocab = {value: key for key, value in vocab.items()}"
   ]
  },
  {
   "cell_type": "code",
   "execution_count": 7,
   "metadata": {},
   "outputs": [],
   "source": [
    "normed_freq = {key: freq[key]/len(data) for (key, value) in vocab.items()}"
   ]
  },
  {
   "cell_type": "code",
   "execution_count": 8,
   "metadata": {},
   "outputs": [],
   "source": [
    "def get_prob_word(context):\n",
    "    # Need to add negative sampling\n",
    "    return [1/len(context) for _ in range(len(context))]"
   ]
  },
  {
   "cell_type": "code",
   "execution_count": 9,
   "metadata": {},
   "outputs": [],
   "source": [
    "device = \"cuda\"\n",
    "context_width = 3\n",
    "\n",
    "class TextDataSet(Dataset):\n",
    "    def __init__(self, data, context_width):\n",
    "        self.data = data\n",
    "        self.context_width = context_width\n",
    "        \n",
    "    def sample_context(self, idx):    \n",
    "        first_index = max(0, idx - self.context_width)\n",
    "        last_index = min(len(self.data), idx + self.context_width + 1)\n",
    "\n",
    "        context = self.data[first_index:idx] + self.data[idx+1:last_index]\n",
    "        context = list(filter(lambda x: x in vocab.keys(), context))\n",
    "\n",
    "        if len(context) == 0:\n",
    "            return None\n",
    "\n",
    "        context = np.random.choice(context, p=get_prob_word(context))\n",
    "        return vocab[context]\n",
    "        \n",
    "    def __len__(self):\n",
    "        return len(data)\n",
    "    \n",
    "    def __getitem__(self, idx):\n",
    "        x = self.data[idx]\n",
    "        y = self.sample_context(idx)\n",
    "        \n",
    "        if x not in vocab.keys() or y is None:\n",
    "            return None, None\n",
    "        \n",
    "        x = vocab[x]\n",
    "        \n",
    "        return x, y"
   ]
  },
  {
   "cell_type": "code",
   "execution_count": 10,
   "metadata": {},
   "outputs": [],
   "source": [
    "def collate_fn(batch):\n",
    "    batch = list(filter(lambda z: z[0] is not None, batch))\n",
    "    \n",
    "    x = [z[0] for z in batch]\n",
    "    x = torch.tensor(x).to(device)\n",
    "    \n",
    "    y = [z[1] for z in batch]\n",
    "    y = torch.tensor(y).to(device)\n",
    "    \n",
    "    return x, y"
   ]
  },
  {
   "cell_type": "code",
   "execution_count": 11,
   "metadata": {},
   "outputs": [],
   "source": [
    "batch_size = 64\n",
    "dataset = TextDataSet(data, context_width)\n",
    "train_loader = DataLoader(dataset, batch_size=batch_size, shuffle=True, num_workers=0, collate_fn=collate_fn)"
   ]
  },
  {
   "cell_type": "code",
   "execution_count": 12,
   "metadata": {},
   "outputs": [],
   "source": [
    "class Word2Vec(nn.Module):\n",
    "    def __init__(self, vocab_size, embedding_size):\n",
    "        super().__init__()\n",
    "        self.embedding_layer = nn.Embedding(vocab_size, embedding_size, sparse=True)\n",
    "        self.output_layer = nn.Linear(embedding_size, vocab_size)\n",
    "    \n",
    "    def forward(self, x):\n",
    "        x = self.embedding_layer(x)\n",
    "        #x = F.relu(x)\n",
    "        x = self.output_layer(x)\n",
    "        return x"
   ]
  },
  {
   "cell_type": "code",
   "execution_count": 13,
   "metadata": {},
   "outputs": [],
   "source": [
    "embedding_size = 100\n",
    "model = Word2Vec(len(vocab), embedding_size).to(device)"
   ]
  },
  {
   "cell_type": "code",
   "execution_count": 14,
   "metadata": {},
   "outputs": [],
   "source": [
    "num_epochs = 1\n",
    "lr = 1e-3\n",
    "momentum = 0.9\n",
    "\n",
    "optimizer = optim.SGD(model.parameters(), lr=lr, momentum=momentum)"
   ]
  },
  {
   "cell_type": "code",
   "execution_count": 15,
   "metadata": {},
   "outputs": [
    {
     "name": "stdout",
     "output_type": "stream",
     "text": [
      "tensor(1.00000e-02 *\n",
      "       4.8362, device='cuda:0')\n"
     ]
    }
   ],
   "source": [
    "for epoch in range(num_epochs):\n",
    "    loss = 0.0\n",
    "    \n",
    "    for _, (x, y) in enumerate(train_loader):\n",
    "        model.zero_grad()\n",
    "        output = model(x)\n",
    "        batch_loss = F.nll_loss(output, y)\n",
    "        \n",
    "        batch_loss.backward()\n",
    "        optimizer.step()\n",
    "        loss += batch_loss\n",
    "        break\n",
    "        \n",
    "    print(loss)"
   ]
  },
  {
   "cell_type": "code",
   "execution_count": null,
   "metadata": {},
   "outputs": [],
   "source": []
  }
 ],
 "metadata": {
  "kernelspec": {
   "display_name": "Python 3",
   "language": "python",
   "name": "python3"
  },
  "language_info": {
   "codemirror_mode": {
    "name": "ipython",
    "version": 3
   },
   "file_extension": ".py",
   "mimetype": "text/x-python",
   "name": "python",
   "nbconvert_exporter": "python",
   "pygments_lexer": "ipython3",
   "version": "3.6.4"
  }
 },
 "nbformat": 4,
 "nbformat_minor": 2
}
