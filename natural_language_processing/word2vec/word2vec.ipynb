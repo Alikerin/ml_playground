{
 "cells": [
  {
   "cell_type": "code",
   "execution_count": null,
   "metadata": {},
   "outputs": [],
   "source": [
    "from collections import Counter\n",
    "import numpy as np\n",
    "import math\n",
    "import random\n",
    "from sklearn.metrics.pairwise import cosine_similarity"
   ]
  },
  {
   "cell_type": "code",
   "execution_count": null,
   "metadata": {},
   "outputs": [],
   "source": [
    "import torch\n",
    "import torch.nn as nn\n",
    "from torch.utils.data import Dataset, DataLoader\n",
    "import torch.optim as optim\n",
    "import torch.nn.functional as F"
   ]
  },
  {
   "cell_type": "code",
   "execution_count": null,
   "metadata": {},
   "outputs": [],
   "source": [
    "data_path = \"data/text8.txt\""
   ]
  },
  {
   "cell_type": "code",
   "execution_count": null,
   "metadata": {},
   "outputs": [],
   "source": [
    "device = \"cuda\"\n",
    "context_width = 3\n",
    "seed = 42"
   ]
  },
  {
   "cell_type": "code",
   "execution_count": null,
   "metadata": {},
   "outputs": [],
   "source": [
    "with open(data_path) as file:\n",
    "    data = file.read()\n",
    "\n",
    "data = data.split(\" \")\n",
    "data = data[0:500000] # Using a smaller dataset"
   ]
  },
  {
   "cell_type": "code",
   "execution_count": null,
   "metadata": {},
   "outputs": [],
   "source": [
    "freq_threshold = 5\n",
    "\n",
    "vocab = dict()\n",
    "count = 0\n",
    "\n",
    "freq = Counter(data)\n",
    "for key, value in freq.items():\n",
    "    if value >= freq_threshold:\n",
    "        vocab[key] = count\n",
    "        count += 1\n",
    "    \n",
    "inverse_vocab = {value: key for key, value in vocab.items()}"
   ]
  },
  {
   "cell_type": "code",
   "execution_count": null,
   "metadata": {},
   "outputs": [],
   "source": [
    "data = list(filter(lambda x: x in vocab.keys(), data))\n",
    "freq = Counter(data)"
   ]
  },
  {
   "cell_type": "code",
   "execution_count": null,
   "metadata": {},
   "outputs": [],
   "source": [
    "normed_freq = {key: freq[key]/len(data) for (key, value) in vocab.items()}"
   ]
  },
  {
   "cell_type": "code",
   "execution_count": null,
   "metadata": {},
   "outputs": [],
   "source": [
    "def prob_dropping(frequency, t=5e-4):\n",
    "    return 1.0 - math.sqrt(t/frequency)\n",
    "\n",
    "prob_drop_word = [prob_dropping(normed_freq[word]) for word in data]\n",
    "prob_drop_word = [prob_word if prob_word > 0 else 0 for prob_word in prob_drop_word]"
   ]
  },
  {
   "cell_type": "code",
   "execution_count": null,
   "metadata": {},
   "outputs": [],
   "source": [
    "random.seed(seed)\n",
    "data = filter(lambda x: random.choices([False, True], weights=[x[1], 1-x[1]])[0], zip(data, prob_drop_word))\n",
    "data = [pair[0] for pair in data]"
   ]
  },
  {
   "cell_type": "code",
   "execution_count": null,
   "metadata": {},
   "outputs": [],
   "source": [
    "class TextDataSet(Dataset):\n",
    "    def __init__(self, data, vocab, context_width):\n",
    "        self.data = data\n",
    "        self.context_width = context_width\n",
    "        self.vocab = vocab\n",
    "        \n",
    "    def get_context(self, idx):    \n",
    "        first_index = max(0, idx - self.context_width)\n",
    "        last_index = min(len(self.data), idx + self.context_width + 1)\n",
    "\n",
    "        context = self.data[first_index:idx] + self.data[idx+1:last_index]\n",
    "        context = [self.vocab[c] for c in context]\n",
    "        \n",
    "        return context\n",
    "        \n",
    "    def __len__(self):\n",
    "        return len(self.data)\n",
    "    \n",
    "    def __getitem__(self, idx):\n",
    "        y = self.get_context(idx)\n",
    "        \n",
    "        x = self.data[idx]\n",
    "        x = self.vocab[x]\n",
    "        x = [x for _ in range(len(y))]\n",
    "        \n",
    "        x = np.array(x)\n",
    "        y = np.array(y)\n",
    "        \n",
    "        return x, y"
   ]
  },
  {
   "cell_type": "code",
   "execution_count": null,
   "metadata": {},
   "outputs": [],
   "source": [
    "def collate_fn(batch):        \n",
    "    x = [z[0] for z in batch]\n",
    "    y = [z[1] for z in batch]\n",
    "\n",
    "    x = np.concatenate(x)\n",
    "    x = torch.from_numpy(x).long().to(device)\n",
    " \n",
    "    y = np.concatenate(y)\n",
    "    y = torch.from_numpy(y).long().to(device)\n",
    "\n",
    "    return x, y"
   ]
  },
  {
   "cell_type": "code",
   "execution_count": null,
   "metadata": {},
   "outputs": [],
   "source": [
    "batch_size = 256\n",
    "dataset = TextDataSet(data, vocab, context_width)\n",
    "train_loader = DataLoader(dataset, batch_size=batch_size, shuffle=True, num_workers=0, collate_fn=collate_fn)"
   ]
  },
  {
   "cell_type": "code",
   "execution_count": null,
   "metadata": {},
   "outputs": [],
   "source": [
    "class Word2Vec(nn.Module):\n",
    "    def __init__(self, vocab_size, embedding_size):\n",
    "        super().__init__()\n",
    "        self.embedding_layer = nn.Embedding(vocab_size, embedding_size)\n",
    "        self.output_layer = nn.Linear(embedding_size, vocab_size)\n",
    "        \n",
    "    def forward(self, x):\n",
    "        x = self.embedding_layer(x)\n",
    "        x = self.output_layer(x)\n",
    "        x = F.log_softmax(x, dim=1)\n",
    "        return x"
   ]
  },
  {
   "cell_type": "code",
   "execution_count": null,
   "metadata": {},
   "outputs": [],
   "source": [
    "torch.manual_seed(seed)\n",
    "embedding_size = 50\n",
    "model = Word2Vec(len(vocab), embedding_size).to(device)"
   ]
  },
  {
   "cell_type": "code",
   "execution_count": null,
   "metadata": {},
   "outputs": [],
   "source": [
    "num_epochs = 2\n",
    "lr = 0.1\n",
    "\n",
    "optimizer = optim.SGD(model.parameters(), lr=lr)"
   ]
  },
  {
   "cell_type": "code",
   "execution_count": null,
   "metadata": {},
   "outputs": [],
   "source": [
    "def get_closest_words(model, idx, num_closest=5):\n",
    "    weights = model.embedding_layer.weight.detach().cpu().numpy()\n",
    "\n",
    "    word_vector = weights[idx]\n",
    "    word_vector = word_vector.reshape((1, word_vector.shape[0]))\n",
    "\n",
    "    distance = cosine_similarity(word_vector, weights)\n",
    "\n",
    "    arg_distance = distance.argsort()\n",
    "    closes_arg = arg_distance[0, arg_distance.shape[1] - num_closest - 1: (arg_distance.shape[1] - 1)]\n",
    "\n",
    "    return_list = []\n",
    "\n",
    "    for i in reversed(closes_arg):\n",
    "        return_list.append((inverse_vocab[i], distance[0, i]))\n",
    "        \n",
    "    return return_list"
   ]
  },
  {
   "cell_type": "code",
   "execution_count": null,
   "metadata": {},
   "outputs": [],
   "source": [
    "example_word = \"men\""
   ]
  },
  {
   "cell_type": "code",
   "execution_count": null,
   "metadata": {},
   "outputs": [],
   "source": [
    "torch.manual_seed(seed)\n",
    "for epoch in range(1, num_epochs+1):\n",
    "    print(f\"----- Epoch {epoch} -----\")\n",
    "    print(get_closest_words(model, vocab[example_word]))\n",
    "    \n",
    "    loss = 0.0\n",
    "    for i, (x, y) in enumerate(train_loader):\n",
    "        model.zero_grad()\n",
    "        output = model(x)\n",
    "        batch_loss = F.nll_loss(output, y)\n",
    "        \n",
    "        batch_loss.backward()\n",
    "        optimizer.step()\n",
    "        loss += batch_loss.item()\n",
    "        \n",
    "    print(\"Loss : {}\".format(loss/len(train_loader)))"
   ]
  }
 ],
 "metadata": {
  "kernelspec": {
   "display_name": "Python 3",
   "language": "python",
   "name": "python3"
  },
  "language_info": {
   "codemirror_mode": {
    "name": "ipython",
    "version": 3
   },
   "file_extension": ".py",
   "mimetype": "text/x-python",
   "name": "python",
   "nbconvert_exporter": "python",
   "pygments_lexer": "ipython3",
   "version": "3.6.4"
  }
 },
 "nbformat": 4,
 "nbformat_minor": 2
}
