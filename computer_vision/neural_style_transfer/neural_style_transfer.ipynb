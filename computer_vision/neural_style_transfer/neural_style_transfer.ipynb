{
 "cells": [
  {
   "cell_type": "code",
   "execution_count": null,
   "metadata": {},
   "outputs": [],
   "source": [
    "import numpy as np\n",
    "import matplotlib.pyplot as plt\n",
    "from PIL import Image\n",
    "from scipy import ndimage"
   ]
  },
  {
   "cell_type": "code",
   "execution_count": null,
   "metadata": {},
   "outputs": [],
   "source": [
    "import torch\n",
    "import torch.nn as nn\n",
    "import torch.nn.functional as F\n",
    "from torch import optim\n",
    "from torchvision.models import vgg16\n",
    "from torchvision import transforms\n",
    "import torchvision.transforms.functional as TVF"
   ]
  },
  {
   "cell_type": "code",
   "execution_count": null,
   "metadata": {},
   "outputs": [],
   "source": [
    "img_size = (800, 600)\n",
    "seed = 42\n",
    "device = \"cuda\""
   ]
  },
  {
   "cell_type": "code",
   "execution_count": null,
   "metadata": {},
   "outputs": [],
   "source": [
    "content_img = Image.open(\"data/content.jpg\")\n",
    "content_img = content_img.resize(img_size)\n",
    "plt.imshow(content_img)\n",
    "plt.show()"
   ]
  },
  {
   "cell_type": "code",
   "execution_count": null,
   "metadata": {},
   "outputs": [],
   "source": [
    "style_img = Image.open(\"data/style.jpg\")\n",
    "style_img = style_img.resize(img_size)\n",
    "plt.imshow(style_img)\n",
    "plt.show()"
   ]
  },
  {
   "cell_type": "code",
   "execution_count": null,
   "metadata": {},
   "outputs": [],
   "source": [
    "# Need to reverse the size due to PIL convention\n",
    "np.random.seed(seed)\n",
    "opt_image = np.random.uniform(0, 1, size=(img_size[1], img_size[0], 3))\n",
    "\n",
    "# Filtering image can help convergence\n",
    "opt_image = ndimage.median_filter(opt_image, (8, 8, 1))"
   ]
  },
  {
   "cell_type": "code",
   "execution_count": null,
   "metadata": {},
   "outputs": [],
   "source": [
    "plt.imshow(opt_image)\n",
    "plt.show()"
   ]
  },
  {
   "cell_type": "code",
   "execution_count": null,
   "metadata": {},
   "outputs": [],
   "source": [
    "model = vgg16(pretrained='imagenet')\n",
    "model = model.features.to(device).eval()\n",
    "\n",
    "for layer in model:\n",
    "    layer.requires_grad = False"
   ]
  },
  {
   "cell_type": "code",
   "execution_count": null,
   "metadata": {},
   "outputs": [],
   "source": [
    "# Conv layer before MaxPool (including Relu)\n",
    "[idx - 1 for idx, layer in enumerate(model)\n",
    "    if isinstance(layer, nn.MaxPool2d)]"
   ]
  },
  {
   "cell_type": "code",
   "execution_count": null,
   "metadata": {},
   "outputs": [],
   "source": [
    "model[22]"
   ]
  },
  {
   "cell_type": "code",
   "execution_count": null,
   "metadata": {},
   "outputs": [],
   "source": [
    "class SaveFeatures:\n",
    "    features = None\n",
    "\n",
    "    def __init__(self, layer):\n",
    "        self.hook = layer.register_forward_hook(self.hook_fn)\n",
    "    \n",
    "    def hook_fn(self, module, input, output):\n",
    "        self.features = output\n",
    "    \n",
    "    def close(self):\n",
    "        self.hook.remove()"
   ]
  },
  {
   "cell_type": "code",
   "execution_count": null,
   "metadata": {},
   "outputs": [],
   "source": [
    "sf = SaveFeatures(model[22])"
   ]
  },
  {
   "cell_type": "code",
   "execution_count": null,
   "metadata": {},
   "outputs": [],
   "source": [
    "transform = transforms.Compose(\n",
    "    [transforms.ToTensor(),\n",
    "     transforms.Normalize(mean=(0.485, 0.456, 0.406),\n",
    "                          std=(0.229, 0.224, 0.225))\n",
    "    ])"
   ]
  },
  {
   "cell_type": "code",
   "execution_count": null,
   "metadata": {},
   "outputs": [],
   "source": [
    "content_tensor = transform(content_img)\n",
    "content_tensor = content_tensor.unsqueeze(0).float().to(device)\n",
    "\n",
    "style_tensor = transform(style_img)\n",
    "#style_tensor = style_tensor.unsqueeze(0).float().to(device)"
   ]
  },
  {
   "cell_type": "code",
   "execution_count": null,
   "metadata": {},
   "outputs": [],
   "source": [
    "#opt_tensor = (opt_image - np.mean(opt_image)) / np.sqrt(np.var(opt_image))\n",
    "opt_tensor = opt_image / 2\n",
    "opt_tensor = TVF.to_tensor(opt_image)\n",
    "opt_tensor = opt_tensor.unsqueeze(0).float().to(device)\n",
    "opt_tensor.requires_grad = True"
   ]
  },
  {
   "cell_type": "code",
   "execution_count": null,
   "metadata": {},
   "outputs": [],
   "source": [
    "lr = 1e-3\n",
    "iter = 100\n",
    "\n",
    "#optimizer = optim.Adam([opt_tensor], lr=lr)\n",
    "optimizer = optim.LBFGS([opt_tensor], lr=0.5)"
   ]
  },
  {
   "cell_type": "code",
   "execution_count": null,
   "metadata": {},
   "outputs": [],
   "source": [
    "_ = model(content_tensor)\n",
    "content_hidden = sf.features.clone()"
   ]
  },
  {
   "cell_type": "code",
   "execution_count": null,
   "metadata": {},
   "outputs": [],
   "source": [
    "torch.manual_seed(seed)\n",
    "\n",
    "run = [0]\n",
    "for it in range(1, iter+1):\n",
    "    def lbfgs_step():\n",
    "        optimizer.zero_grad()\n",
    "\n",
    "        _ = model(opt_tensor)\n",
    "        opt_hidden = sf.features\n",
    "\n",
    "        loss = F.mse_loss(opt_hidden, content_hidden)\n",
    "        loss.backward(retain_graph=True)\n",
    "\n",
    "        if run[0] % 10 == 0:\n",
    "            print(loss)\n",
    "\n",
    "        run[0] += 1\n",
    "        return loss\n",
    "    \n",
    "    #optimizer.zero_grad()\n",
    "    \n",
    "    optimizer.step(lbfgs_step)\n",
    "    \n",
    "    #if it % 10 == 0:\n",
    "    #    print(loss)\n",
    "    #    print(opt_tensor[0, :, 0, 0])"
   ]
  },
  {
   "cell_type": "code",
   "execution_count": null,
   "metadata": {},
   "outputs": [],
   "source": [
    "opt_img = opt_tensor.squeeze(0).detach().cpu()\n",
    "opt_img = TVF.to_pil_image(opt_img)\n",
    "plt.imshow(opt_img)\n",
    "plt.show()"
   ]
  },
  {
   "cell_type": "code",
   "execution_count": null,
   "metadata": {},
   "outputs": [],
   "source": []
  }
 ],
 "metadata": {
  "kernelspec": {
   "display_name": "Python 3",
   "language": "python",
   "name": "python3"
  },
  "language_info": {
   "codemirror_mode": {
    "name": "ipython",
    "version": 3
   },
   "file_extension": ".py",
   "mimetype": "text/x-python",
   "name": "python",
   "nbconvert_exporter": "python",
   "pygments_lexer": "ipython3",
   "version": "3.6.4"
  }
 },
 "nbformat": 4,
 "nbformat_minor": 2
}
