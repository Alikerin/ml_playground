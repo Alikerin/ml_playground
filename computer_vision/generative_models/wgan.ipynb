{
 "cells": [
  {
   "cell_type": "markdown",
   "metadata": {},
   "source": [
    "# Wasserstein generative adversarial networks"
   ]
  },
  {
   "cell_type": "code",
   "execution_count": 1,
   "metadata": {},
   "outputs": [],
   "source": [
    "import numpy as np\n",
    "import pandas as pd\n",
    "import matplotlib.pyplot as plt\n",
    "from sklearn.preprocessing import MinMaxScaler\n",
    "\n",
    "import torch\n",
    "import torch.nn as nn\n",
    "import torch.nn.functional as F\n",
    "from torch.utils.data import Dataset, DataLoader\n",
    "import torch.optim as optim"
   ]
  },
  {
   "cell_type": "code",
   "execution_count": 2,
   "metadata": {},
   "outputs": [],
   "source": [
    "PATH = \"data/\"\n",
    "file_name = PATH + \"mnist_train.csv\""
   ]
  },
  {
   "cell_type": "code",
   "execution_count": 3,
   "metadata": {},
   "outputs": [],
   "source": [
    "df = pd.read_csv(file_name)"
   ]
  },
  {
   "cell_type": "code",
   "execution_count": 4,
   "metadata": {},
   "outputs": [
    {
     "data": {
      "text/plain": [
       "(60000, 1, 28, 28)"
      ]
     },
     "execution_count": 4,
     "metadata": {},
     "output_type": "execute_result"
    }
   ],
   "source": [
    "X = df.iloc[:, 1:].values\n",
    "X = X.astype(\"float32\")\n",
    "scaler = MinMaxScaler(feature_range=(-1, 1))\n",
    "X = scaler.fit_transform(X)\n",
    "X = X.reshape((len(X), 1, 28, 28))\n",
    "X.shape"
   ]
  },
  {
   "cell_type": "code",
   "execution_count": 5,
   "metadata": {},
   "outputs": [],
   "source": [
    "batch_size = 128\n",
    "seed = 42\n",
    "device = \"cuda\""
   ]
  },
  {
   "cell_type": "code",
   "execution_count": 6,
   "metadata": {},
   "outputs": [],
   "source": [
    "class MnistDataset(Dataset):\n",
    "    def __init__(self, X):\n",
    "        self.X = torch.from_numpy(X).float().to(device)\n",
    "\n",
    "    def __len__(self):\n",
    "        return len(self.X)\n",
    "\n",
    "    def __getitem__(self, idx):\n",
    "        return self.X[idx, :, :, :]"
   ]
  },
  {
   "cell_type": "code",
   "execution_count": 7,
   "metadata": {},
   "outputs": [],
   "source": [
    "class BatchConvTranspose(nn.Module):\n",
    "    def __init__(self, in_channels, out_channels, kernel_size=3, padding=0):\n",
    "        super().__init__()\n",
    "        self.conv = nn.ConvTranspose2d(in_channels, out_channels, padding=padding,\n",
    "                                       kernel_size=kernel_size, stride=2, bias=False)\n",
    "        self.bn = nn.BatchNorm2d(out_channels)\n",
    "        self.act = nn.ReLU()\n",
    "        \n",
    "    def forward(self, x):\n",
    "        x = self.conv(x)\n",
    "        x = self.bn(x)\n",
    "        x = self.act(x)\n",
    "        return x\n",
    "\n",
    "class Generator(nn.Module):\n",
    "    def __init__(self, z_dim):\n",
    "        super().__init__()\n",
    "        self.conv_1 = BatchConvTranspose(z_dim, int(z_dim / 2))\n",
    "        self.conv_2 = BatchConvTranspose(int(z_dim / 2), int(z_dim / 4))\n",
    "        self.conv_3 = BatchConvTranspose(int(z_dim / 4), int(z_dim / 8))\n",
    "        \n",
    "        self.conv_4 = nn.ConvTranspose2d(int(z_dim / 8), 1, padding=2, kernel_size=4, stride=2)\n",
    "        self.act = nn.Tanh()\n",
    "        \n",
    "    def forward(self, x):\n",
    "        x = self.conv_1(x)\n",
    "        x = self.conv_2(x)\n",
    "        x = self.conv_3(x)\n",
    "        x = self.conv_4(x)\n",
    "        x = self.act(x)\n",
    "        return x"
   ]
  },
  {
   "cell_type": "code",
   "execution_count": 8,
   "metadata": {},
   "outputs": [],
   "source": [
    "class BatchConv(nn.Module):\n",
    "    def __init__(self, in_channels, out_channels, padding=0, kernel_size=3):\n",
    "        super().__init__()\n",
    "        self.conv = nn.Conv2d(in_channels, out_channels, padding=padding,\n",
    "                              kernel_size=kernel_size, stride=2, bias=False)\n",
    "        self.bn = nn.BatchNorm2d(out_channels)\n",
    "        self.act = nn.LeakyReLU(0.2)\n",
    "        \n",
    "    def forward(self, x):\n",
    "        x = self.conv(x)\n",
    "        x = self.bn(x)\n",
    "        x = self.act(x)\n",
    "        return x\n",
    "\n",
    "class Discriminator(nn.Module):\n",
    "    def __init__(self):\n",
    "        super().__init__()\n",
    "        self.conv_1 = BatchConv(1, 16)\n",
    "        self.conv_2 = BatchConv(16, 32)\n",
    "        self.conv_3 = BatchConv(32, 64)\n",
    "        self.output_conv = nn.Conv2d(64, 1, kernel_size=2, stride=1)\n",
    "        \n",
    "    def forward(self, x):\n",
    "        x = self.conv_1(x)\n",
    "        x = self.conv_2(x)\n",
    "        x = self.conv_3(x)\n",
    "        x = self.output_conv(x)\n",
    "        x = x.view((len(x), -1))\n",
    "        return x"
   ]
  },
  {
   "cell_type": "code",
   "execution_count": 9,
   "metadata": {},
   "outputs": [],
   "source": [
    "dataset = MnistDataset(X)\n",
    "dataloader = DataLoader(dataset, batch_size=batch_size, num_workers=0)"
   ]
  },
  {
   "cell_type": "code",
   "execution_count": 10,
   "metadata": {},
   "outputs": [],
   "source": [
    "z_dim = 128\n",
    "\n",
    "\n",
    "torch.manual_seed(seed)\n",
    "g_model = Generator(z_dim).to(device)\n",
    "d_model = Discriminator().to(device)"
   ]
  },
  {
   "cell_type": "code",
   "execution_count": 11,
   "metadata": {},
   "outputs": [],
   "source": [
    "lr = 1e-4\n",
    "clamp_val = 0.01\n",
    "n_critic = 5\n",
    "epochs = 200\n",
    "\n",
    "generator_optimizer = optim.RMSprop(g_model.parameters(), lr=lr)\n",
    "discriminator_optimizer = optim.RMSprop(d_model.parameters(), lr=lr)"
   ]
  },
  {
   "cell_type": "code",
   "execution_count": 12,
   "metadata": {},
   "outputs": [],
   "source": [
    "def set_trainable(model, trainable=True):\n",
    "    for param in model.parameters():\n",
    "        param.requires_grad = trainable\n",
    "\n",
    "def clamp_model(model, c):\n",
    "    for param in model.parameters():\n",
    "        param.data.clamp_(-c, c)"
   ]
  },
  {
   "cell_type": "code",
   "execution_count": 13,
   "metadata": {},
   "outputs": [
    {
     "name": "stdout",
     "output_type": "stream",
     "text": [
      "------ Epoch 0 ------\n",
      "Wasserstein distance: 0.6925728462636471\n",
      "------ Epoch 10 ------\n",
      "Wasserstein distance: 0.6822053190320729\n",
      "------ Epoch 20 ------\n",
      "Wasserstein distance: 0.3142017079051584\n",
      "------ Epoch 30 ------\n",
      "Wasserstein distance: 0.2054414832848125\n",
      "------ Epoch 40 ------\n",
      "Wasserstein distance: 0.17353619679342952\n",
      "------ Epoch 50 ------\n",
      "Wasserstein distance: 0.15686112714465714\n",
      "------ Epoch 60 ------\n",
      "Wasserstein distance: 0.144789439230226\n",
      "------ Epoch 70 ------\n",
      "Wasserstein distance: 0.12578962047118694\n",
      "------ Epoch 80 ------\n",
      "Wasserstein distance: 0.1136676350608468\n",
      "------ Epoch 90 ------\n",
      "Wasserstein distance: 0.10610491946572442\n",
      "------ Epoch 100 ------\n",
      "Wasserstein distance: 0.09617930093081663\n",
      "------ Epoch 110 ------\n",
      "Wasserstein distance: 0.09026577224285572\n",
      "------ Epoch 120 ------\n",
      "Wasserstein distance: 0.08419131136324723\n",
      "------ Epoch 130 ------\n",
      "Wasserstein distance: 0.08213923308067024\n",
      "------ Epoch 140 ------\n",
      "Wasserstein distance: 0.0768564177036751\n",
      "------ Epoch 150 ------\n",
      "Wasserstein distance: 0.07505089022233728\n",
      "------ Epoch 160 ------\n",
      "Wasserstein distance: 0.06821555882634127\n",
      "------ Epoch 170 ------\n",
      "Wasserstein distance: 0.06384726778487675\n",
      "------ Epoch 180 ------\n",
      "Wasserstein distance: 0.0611572442219767\n",
      "------ Epoch 190 ------\n",
      "Wasserstein distance: 0.059184941073181084\n"
     ]
    }
   ],
   "source": [
    "d_loss_list = []\n",
    "\n",
    "np.random.seed(seed)\n",
    "torch.manual_seed(seed)\n",
    "g_model.train()\n",
    "d_model.train()\n",
    "\n",
    "for epoch in range(epochs):\n",
    "    epoch_d_loss = 0.0\n",
    "    enum = enumerate(dataloader)\n",
    "    \n",
    "    for idx in range(len(dataloader) // n_critic):\n",
    "        set_trainable(d_model, trainable=True)\n",
    "        set_trainable(g_model, trainable=False)\n",
    "        \n",
    "        d_loss_iter = 0.0\n",
    "        for n in range(n_critic):\n",
    "            d_model.zero_grad()\n",
    "            \n",
    "            _, x = next(enum)\n",
    "            z = torch.randn((len(x), z_dim, 1, 1), device=device)\n",
    "            \n",
    "            d_loss = d_model(x).mean() - d_model(g_model(z)).mean()\n",
    "            d_loss.backward()\n",
    "            discriminator_optimizer.step()\n",
    "            d_loss_iter += d_loss.detach().cpu().numpy()\n",
    "            \n",
    "            clamp_model(d_model, clamp_val)\n",
    "        epoch_d_loss += d_loss_iter / n_critic\n",
    "        \n",
    "        set_trainable(d_model, trainable=False)\n",
    "        set_trainable(g_model, trainable=True)\n",
    "        g_model.zero_grad()\n",
    "        \n",
    "        z = torch.randn((len(x), z_dim, 1, 1), device=device)\n",
    "        g_loss = d_model(g_model(z)).mean()\n",
    "        \n",
    "        g_loss.backward()\n",
    "        generator_optimizer.step()\n",
    "        \n",
    "    d_loss_list.append(-epoch_d_loss)\n",
    "    \n",
    "    if epoch % 10 == 0:\n",
    "        print(f\"------ Epoch {epoch} ------\")\n",
    "        print(f\"Wasserstein distance: {-epoch_d_loss}\")"
   ]
  },
  {
   "cell_type": "code",
   "execution_count": 14,
   "metadata": {},
   "outputs": [
    {
     "data": {
      "image/png": "[encoded data removed]",
      "text/plain": [
       "<Figure size 576x576 with 1 Axes>"
      ]
     },
     "metadata": {},
     "output_type": "display_data"
    }
   ],
   "source": [
    "plt.figure(figsize=(8, 8))\n",
    "plt.plot(d_loss_list, \"b\", label=\"Wasserstein distance\")\n",
    "plt.xlabel(\"Epoch\")\n",
    "plt.ylabel(\"Distance\")\n",
    "plt.legend()\n",
    "plt.show()"
   ]
  },
  {
   "cell_type": "code",
   "execution_count": 15,
   "metadata": {},
   "outputs": [],
   "source": [
    "np.random.seed(seed)\n",
    "g_model.eval()\n",
    "\n",
    "z = np.random.normal(0, 1, size=(9, z_dim, 1, 1))\n",
    "z = np.clip(z, -1, 1)\n",
    "z = torch.from_numpy(z).float().to(device)\n",
    "img_fake = g_model(z)\n",
    "img_fake = img_fake[:, 0, :, :].detach().cpu().numpy()\n",
    "\n",
    "img_fake = (img_fake + 1) * 255 / 2\n",
    "img_fake = np.round(img_fake)"
   ]
  },
  {
   "cell_type": "code",
   "execution_count": 16,
   "metadata": {},
   "outputs": [
    {
     "data": {
      "image/png": "[encoded data removed]",
      "text/plain": [
       "<Figure size 576x576 with 9 Axes>"
      ]
     },
     "metadata": {},
     "output_type": "display_data"
    }
   ],
   "source": [
    "# Fake images\n",
    "fig, ax = plt.subplots(3, 3, figsize=(8, 8))\n",
    "\n",
    "for i in range(3):\n",
    "    for j in range(3):\n",
    "        ax[i, j].imshow(img_fake[i*3 + j, :, :], cmap=\"gray\")\n",
    "plt.show()"
   ]
  },
  {
   "cell_type": "code",
   "execution_count": 17,
   "metadata": {},
   "outputs": [
    {
     "data": {
      "image/png": "[encoded data removed]",
      "text/plain": [
       "<Figure size 432x288 with 1 Axes>"
      ]
     },
     "metadata": {},
     "output_type": "display_data"
    }
   ],
   "source": [
    "# Real image\n",
    "plt.imshow(X[0, :].reshape(28, 28), cmap=\"gray\")\n",
    "plt.show()"
   ]
  }
 ],
 "metadata": {
  "kernelspec": {
   "display_name": "Python 3",
   "language": "python",
   "name": "python3"
  },
  "language_info": {
   "codemirror_mode": {
    "name": "ipython",
    "version": 3
   },
   "file_extension": ".py",
   "mimetype": "text/x-python",
   "name": "python",
   "nbconvert_exporter": "python",
   "pygments_lexer": "ipython3",
   "version": "3.6.4"
  }
 },
 "nbformat": 4,
 "nbformat_minor": 2
}
