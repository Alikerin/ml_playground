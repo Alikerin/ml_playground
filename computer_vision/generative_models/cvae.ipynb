{
 "cells": [
  {
   "cell_type": "markdown",
   "metadata": {},
   "source": [
    "# Conditional Variational Autoencoder"
   ]
  },
  {
   "cell_type": "code",
   "execution_count": 1,
   "metadata": {},
   "outputs": [],
   "source": [
    "import numpy as np\n",
    "import pandas as pd\n",
    "import matplotlib.pyplot as plt\n",
    "\n",
    "import torch\n",
    "import torch.nn as nn\n",
    "import torch.nn.functional as F\n",
    "from torch.utils.data import Dataset, DataLoader\n",
    "import torch.optim as optim"
   ]
  },
  {
   "cell_type": "code",
   "execution_count": 2,
   "metadata": {},
   "outputs": [],
   "source": [
    "PATH = \"data/\"\n",
    "file_name = PATH + \"mnist_train.csv\""
   ]
  },
  {
   "cell_type": "code",
   "execution_count": 3,
   "metadata": {},
   "outputs": [],
   "source": [
    "df = pd.read_csv(file_name)"
   ]
  },
  {
   "cell_type": "code",
   "execution_count": 4,
   "metadata": {},
   "outputs": [
    {
     "data": {
      "text/plain": [
       "(60000, 1, 28, 28)"
      ]
     },
     "execution_count": 4,
     "metadata": {},
     "output_type": "execute_result"
    }
   ],
   "source": [
    "X = df.iloc[:, 1:].values\n",
    "X = X.astype(\"float32\")\n",
    "X = X.reshape((len(X), 1, 28, 28))\n",
    "X = X / 255\n",
    "X.shape"
   ]
  },
  {
   "cell_type": "code",
   "execution_count": 5,
   "metadata": {},
   "outputs": [],
   "source": [
    "Y = df.iloc[:, 0].values"
   ]
  },
  {
   "cell_type": "code",
   "execution_count": 6,
   "metadata": {},
   "outputs": [],
   "source": [
    "batch_size = 1024\n",
    "seed = 42\n",
    "device = \"cuda\""
   ]
  },
  {
   "cell_type": "code",
   "execution_count": 7,
   "metadata": {},
   "outputs": [],
   "source": [
    "class MnistDataset(Dataset):\n",
    "    def __init__(self, X, Y):\n",
    "        self.X = torch.from_numpy(X).float().to(device)\n",
    "        self.Y = torch.from_numpy(Y).long().to(device)\n",
    "\n",
    "    def __len__(self):\n",
    "        return len(self.X)\n",
    "\n",
    "    def __getitem__(self, idx):\n",
    "        return self.X[idx, :, :, :], self.Y[idx]"
   ]
  },
  {
   "cell_type": "code",
   "execution_count": 8,
   "metadata": {},
   "outputs": [],
   "source": [
    "def kl_normal(mu, sd):\n",
    "    # Assume prior ~ N(0, 1)\n",
    "    prior = torch.distributions.Normal(torch.zeros_like(mu), torch.ones_like(sd))\n",
    "    posterior = torch.distributions.Normal(mu, sd)\n",
    "    return torch.distributions.kl.kl_divergence(posterior, prior)\n",
    "\n",
    "class BatchConvTranspose(nn.Module):\n",
    "    def __init__(self, in_channels, out_channels, kernel_size=3, padding=0):\n",
    "        super().__init__()\n",
    "        self.conv = nn.ConvTranspose2d(in_channels, out_channels, padding=padding,\n",
    "                                       kernel_size=kernel_size, stride=2, bias=False)\n",
    "        self.bn = nn.BatchNorm2d(out_channels)\n",
    "        self.act = nn.ReLU()\n",
    "\n",
    "    def forward(self, x):\n",
    "        x = self.conv(x)\n",
    "        x = self.bn(x)\n",
    "        x = self.act(x)\n",
    "        return x\n",
    "\n",
    "class BatchConv(nn.Module):\n",
    "    def __init__(self, in_channels, out_channels, padding=0, kernel_size=3, stride=2):\n",
    "        super().__init__()\n",
    "        self.conv = nn.Conv2d(in_channels, out_channels, padding=padding,\n",
    "                              kernel_size=kernel_size, stride=stride, bias=False)\n",
    "        self.bn = nn.BatchNorm2d(out_channels)\n",
    "        self.act = nn.ReLU()\n",
    "\n",
    "    def forward(self, x):\n",
    "        x = self.conv(x)\n",
    "        x = self.bn(x)\n",
    "        x = self.act(x)\n",
    "        return x"
   ]
  },
  {
   "cell_type": "code",
   "execution_count": 9,
   "metadata": {},
   "outputs": [],
   "source": [
    "class CVAE(nn.Module):\n",
    "    def __init__(self, z_dim):\n",
    "        super().__init__()\n",
    "\n",
    "        self.z_dim = z_dim\n",
    "\n",
    "        self.conv_1 = BatchConv(1, 16)\n",
    "        self.conv_2 = BatchConv(16, 32)\n",
    "        self.conv_3 = BatchConv(32, 64)\n",
    "        self.conv_4 = nn.Conv2d(64, 2 * self.z_dim, kernel_size=2, stride=1)\n",
    "\n",
    "        self.deconv_1 = BatchConvTranspose(self.z_dim, 32)\n",
    "        self.deconv_2 = BatchConvTranspose(32, 16)\n",
    "        self.deconv_3 = BatchConvTranspose(16, 8)\n",
    "        self.deconv_4 = BatchConvTranspose(8, 4, kernel_size=2, padding=1)\n",
    "        self.decoder_label_embedding = nn.Embedding(10, self.z_dim)\n",
    "\n",
    "        self.conv_output = nn.Conv2d(4, 1, kernel_size=3, stride=1, padding=1)\n",
    "        self.act = nn.Sigmoid()\n",
    "\n",
    "    def encoder(self, input_, target):\n",
    "        x = self.conv_1(input_)\n",
    "        x = self.conv_2(x)\n",
    "        x = self.conv_3(x)\n",
    "        x = self.conv_4(x)\n",
    "\n",
    "        mu = x[:, 0:self.z_dim, 0, 0]\n",
    "\n",
    "        # Want sd > 0\n",
    "        sd = x[:, self.z_dim : 2 * self.z_dim, 0, 0]\n",
    "        sd = F.softplus(sd)\n",
    "        return mu, sd\n",
    "\n",
    "    def decoder(self, z):\n",
    "        x = self.deconv_1(z)\n",
    "        x = self.deconv_2(x)\n",
    "        x = self.deconv_3(x)\n",
    "        x = self.deconv_4(x)\n",
    "\n",
    "        x = self.conv_output(x)\n",
    "        x = self.act(x)\n",
    "        return x\n",
    "\n",
    "    def forward(self, input_, target):\n",
    "        mu, sd = self.encoder(input_, target)\n",
    "\n",
    "        kl_loss = kl_normal(mu, sd)\n",
    "        kl_loss = torch.sum(kl_loss) / len(input_)\n",
    "\n",
    "        # Reparameterization trick\n",
    "        z = mu + torch.randn((len(input_), self.z_dim), device=device) * sd\n",
    "        z += self.decoder_label_embedding(target)\n",
    "        z = z.unsqueeze(2).unsqueeze(2)\n",
    "\n",
    "        x_hat = self.decoder(z)\n",
    "        output_target = input_ > 0.5\n",
    "        output_target = output_target.float()\n",
    "\n",
    "        # log likelihood = -cross entropy\n",
    "        expected_log_likelihood = -F.binary_cross_entropy(x_hat, output_target, reduction=\"sum\") / len(input_)\n",
    "        return expected_log_likelihood, kl_loss\n",
    "\n",
    "    def sample(self, target, num_samples):\n",
    "        mu = torch.zeros((num_samples, self.z_dim), device=device)\n",
    "        sd = torch.ones((num_samples, self.z_dim), device=device)\n",
    "\n",
    "        z = mu + torch.randn((num_samples, self.z_dim), device=device) * sd\n",
    "        z += self.decoder_label_embedding(target)\n",
    "        z = z.unsqueeze(2).unsqueeze(2)\n",
    "\n",
    "        x_hat = self.decoder(z)\n",
    "        return x_hat"
   ]
  },
  {
   "cell_type": "code",
   "execution_count": 10,
   "metadata": {},
   "outputs": [],
   "source": [
    "dataset = MnistDataset(X, Y)\n",
    "dataloader = DataLoader(dataset, batch_size=batch_size, num_workers=0)"
   ]
  },
  {
   "cell_type": "code",
   "execution_count": 11,
   "metadata": {},
   "outputs": [],
   "source": [
    "z_dim = 64\n",
    "\n",
    "torch.manual_seed(seed)\n",
    "model = CVAE(z_dim).to(device)"
   ]
  },
  {
   "cell_type": "code",
   "execution_count": 12,
   "metadata": {},
   "outputs": [],
   "source": [
    "lr = 1e-2\n",
    "epochs = 200\n",
    "\n",
    "optimizer = optim.Adam(model.parameters(), lr=lr)"
   ]
  },
  {
   "cell_type": "code",
   "execution_count": 13,
   "metadata": {},
   "outputs": [
    {
     "name": "stdout",
     "output_type": "stream",
     "text": [
      "------ Epoch 0 ------\n",
      "Loss: 206.21737205376058\n",
      "------ Epoch 10 ------\n",
      "Loss: 102.89933065640724\n",
      "------ Epoch 20 ------\n",
      "Loss: 94.62510370804091\n",
      "------ Epoch 30 ------\n",
      "Loss: 91.5261340383756\n",
      "------ Epoch 40 ------\n",
      "Loss: 89.66650054414393\n",
      "------ Epoch 50 ------\n",
      "Loss: 88.36953489659196\n",
      "------ Epoch 60 ------\n",
      "Loss: 87.54937782934157\n",
      "------ Epoch 70 ------\n",
      "Loss: 86.98727985963983\n",
      "------ Epoch 80 ------\n",
      "Loss: 86.37666126833123\n",
      "------ Epoch 90 ------\n",
      "Loss: 85.94325295141188\n",
      "------ Epoch 100 ------\n",
      "Loss: 85.52257175768835\n",
      "------ Epoch 110 ------\n",
      "Loss: 85.30696571479409\n",
      "------ Epoch 120 ------\n",
      "Loss: 84.79723733158436\n",
      "------ Epoch 130 ------\n",
      "Loss: 84.68082699533237\n",
      "------ Epoch 140 ------\n",
      "Loss: 84.41297266038798\n",
      "------ Epoch 150 ------\n",
      "Loss: 84.23096841068592\n",
      "------ Epoch 160 ------\n",
      "Loss: 83.95675607454979\n",
      "------ Epoch 170 ------\n",
      "Loss: 83.83496042025291\n",
      "------ Epoch 180 ------\n",
      "Loss: 83.58834800073656\n",
      "------ Epoch 190 ------\n",
      "Loss: 83.43438449148404\n"
     ]
    }
   ],
   "source": [
    "loss_list = []\n",
    "\n",
    "np.random.seed(seed)\n",
    "torch.manual_seed(seed)\n",
    "model.train()\n",
    "\n",
    "for epoch in range(epochs):\n",
    "    epoch_loss = 0.0\n",
    "    for _, (x, y) in enumerate(dataloader):\n",
    "        #print(\"tt\")\n",
    "        model.zero_grad()\n",
    "\n",
    "        expected_log_likelihood, kl_loss = model(x, y)\n",
    "        elbo = -(expected_log_likelihood - kl_loss) # Want to maximize elbo, i.e. minimize -elbo\n",
    "        elbo.backward()\n",
    "        optimizer.step()\n",
    "\n",
    "        epoch_loss += elbo.detach().cpu().numpy()\n",
    "    loss_list.append(epoch_loss / len(dataloader))\n",
    "    \n",
    "    if epoch % 10 == 0:\n",
    "        print(f\"------ Epoch {epoch} ------\")\n",
    "        print(f\"Loss: {epoch_loss / len(dataloader)}\")"
   ]
  },
  {
   "cell_type": "code",
   "execution_count": 14,
   "metadata": {},
   "outputs": [
    {
     "data": {
      "image/png": "[encoded data removed]",
      "text/plain": [
       "<Figure size 576x576 with 1 Axes>"
      ]
     },
     "metadata": {
      "needs_background": "light"
     },
     "output_type": "display_data"
    }
   ],
   "source": [
    "plt.figure(figsize=(8, 8))\n",
    "plt.plot(loss_list, \"b\", label=\"ELBO\")\n",
    "plt.xlabel(\"Epoch\")\n",
    "plt.ylabel(\"Loss\")\n",
    "plt.legend()\n",
    "plt.show()"
   ]
  },
  {
   "cell_type": "code",
   "execution_count": 15,
   "metadata": {},
   "outputs": [],
   "source": [
    "torch.manual_seed(seed)\n",
    "model.eval()\n",
    "\n",
    "num_samples = 9\n",
    "target_samples = torch.randint(low=0, high=10, size=(num_samples,), device=device)\n",
    "\n",
    "generated_images = model.sample(target_samples, num_samples=num_samples)\n",
    "generated_images = generated_images[:, 0, :, :].detach().cpu().numpy()"
   ]
  },
  {
   "cell_type": "code",
   "execution_count": 16,
   "metadata": {},
   "outputs": [
    {
     "data": {
      "image/png": "[encoded data removed]",
      "text/plain": [
       "<Figure size 720x720 with 9 Axes>"
      ]
     },
     "metadata": {
      "needs_background": "light"
     },
     "output_type": "display_data"
    }
   ],
   "source": [
    "# Fake images\n",
    "fig, ax = plt.subplots(3, 3, figsize=(10, 10))\n",
    "\n",
    "for i in range(3):\n",
    "    for j in range(3):\n",
    "        ax[i, j].imshow(generated_images[i*3 + j, :, :], cmap=\"gray\")\n",
    "        ax[i, j].set_title(\"Target: \" + str(target_samples[i*3 + j].cpu().numpy()))\n",
    "plt.show()"
   ]
  },
  {
   "cell_type": "code",
   "execution_count": 17,
   "metadata": {},
   "outputs": [
    {
     "data": {
      "image/png": "[encoded data removed]",
      "text/plain": [
       "<Figure size 432x288 with 1 Axes>"
      ]
     },
     "metadata": {
      "needs_background": "light"
     },
     "output_type": "display_data"
    }
   ],
   "source": [
    "# Real image\n",
    "plt.imshow(X[0, :].reshape(28, 28), cmap=\"gray\")\n",
    "plt.show()"
   ]
  }
 ],
 "metadata": {
  "kernelspec": {
   "display_name": "Python 3",
   "language": "python",
   "name": "python3"
  },
  "language_info": {
   "codemirror_mode": {
    "name": "ipython",
    "version": 3
   },
   "file_extension": ".py",
   "mimetype": "text/x-python",
   "name": "python",
   "nbconvert_exporter": "python",
   "pygments_lexer": "ipython3",
   "version": "3.7.3"
  }
 },
 "nbformat": 4,
 "nbformat_minor": 4
}
