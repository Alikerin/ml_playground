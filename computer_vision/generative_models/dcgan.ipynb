{
 "cells": [
  {
   "cell_type": "markdown",
   "metadata": {},
   "source": [
    "# Deep convolutional generative adversarial networks"
   ]
  },
  {
   "cell_type": "code",
   "execution_count": 1,
   "metadata": {},
   "outputs": [],
   "source": [
    "import numpy as np\n",
    "import pandas as pd\n",
    "import matplotlib.pyplot as plt\n",
    "from sklearn.preprocessing import MinMaxScaler\n",
    "\n",
    "import torch\n",
    "import torch.nn as nn\n",
    "import torch.nn.functional as F\n",
    "from torch.utils.data import Dataset, DataLoader\n",
    "import torch.optim as optim"
   ]
  },
  {
   "cell_type": "code",
   "execution_count": 2,
   "metadata": {},
   "outputs": [],
   "source": [
    "PATH = \"data/\"\n",
    "file_name = PATH + \"mnist_train.csv\""
   ]
  },
  {
   "cell_type": "code",
   "execution_count": 3,
   "metadata": {},
   "outputs": [],
   "source": [
    "df = pd.read_csv(file_name)"
   ]
  },
  {
   "cell_type": "code",
   "execution_count": 4,
   "metadata": {},
   "outputs": [
    {
     "data": {
      "text/plain": [
       "(60000, 1, 28, 28)"
      ]
     },
     "execution_count": 4,
     "metadata": {},
     "output_type": "execute_result"
    }
   ],
   "source": [
    "X = df.iloc[:, 1:].values\n",
    "X = X.astype(\"float32\")\n",
    "scaler = MinMaxScaler(feature_range=(-1, 1))\n",
    "X = scaler.fit_transform(X)\n",
    "X = X.reshape((len(X), 1, 28, 28))\n",
    "X.shape"
   ]
  },
  {
   "cell_type": "code",
   "execution_count": 5,
   "metadata": {},
   "outputs": [],
   "source": [
    "batch_size = 128\n",
    "seed = 42\n",
    "device = \"cuda\""
   ]
  },
  {
   "cell_type": "code",
   "execution_count": 6,
   "metadata": {},
   "outputs": [],
   "source": [
    "class MnistDataset(Dataset):\n",
    "    def __init__(self, X):\n",
    "        self.X = torch.from_numpy(X).float().to(device)\n",
    "\n",
    "    def __len__(self):\n",
    "        return len(self.X)\n",
    "\n",
    "    def __getitem__(self, idx):\n",
    "        return self.X[idx, :, :, :]"
   ]
  },
  {
   "cell_type": "code",
   "execution_count": 7,
   "metadata": {},
   "outputs": [],
   "source": [
    "class BatchConvTranspose(nn.Module):\n",
    "    def __init__(self, in_channels, out_channels, kernel_size=3, padding=0):\n",
    "        super().__init__()\n",
    "        self.conv = nn.ConvTranspose2d(in_channels, out_channels, padding=padding,\n",
    "                                       kernel_size=kernel_size, stride=2, bias=False)\n",
    "        self.bn = nn.BatchNorm2d(out_channels)\n",
    "        self.act = nn.ReLU()\n",
    "        \n",
    "    def forward(self, x):\n",
    "        x = self.conv(x)\n",
    "        x = self.bn(x)\n",
    "        x = self.act(x)\n",
    "        return x\n",
    "\n",
    "class Generator(nn.Module):\n",
    "    def __init__(self, z_dim):\n",
    "        super().__init__()\n",
    "        self.conv_1 = BatchConvTranspose(z_dim, int(z_dim / 2))\n",
    "        self.conv_2 = BatchConvTranspose(int(z_dim / 2), int(z_dim / 4))\n",
    "        self.conv_3 = BatchConvTranspose(int(z_dim / 4), int(z_dim / 8))\n",
    "        \n",
    "        self.conv_4 = nn.ConvTranspose2d(int(z_dim / 8), 1, padding=2, kernel_size=4, stride=2)\n",
    "        self.act = nn.Tanh()\n",
    "        \n",
    "    def forward(self, x):\n",
    "        x = self.conv_1(x)\n",
    "        x = self.conv_2(x)\n",
    "        x = self.conv_3(x)\n",
    "        x = self.conv_4(x)\n",
    "        x = self.act(x)\n",
    "        return x"
   ]
  },
  {
   "cell_type": "code",
   "execution_count": 8,
   "metadata": {},
   "outputs": [],
   "source": [
    "class BatchConv(nn.Module):\n",
    "    def __init__(self, in_channels, out_channels, padding=0, kernel_size=3):\n",
    "        super().__init__()\n",
    "        self.conv = nn.Conv2d(in_channels, out_channels, padding=padding,\n",
    "                              kernel_size=kernel_size, stride=2, bias=False)\n",
    "        self.bn = nn.BatchNorm2d(out_channels)\n",
    "        self.act = nn.LeakyReLU(0.2)\n",
    "        \n",
    "    def forward(self, x):\n",
    "        x = self.conv(x)\n",
    "        x = self.bn(x)\n",
    "        x = self.act(x)\n",
    "        return x\n",
    "\n",
    "class Discriminator(nn.Module):\n",
    "    def __init__(self):\n",
    "        super().__init__()\n",
    "        self.conv_1 = BatchConv(1, 16)\n",
    "        self.conv_2 = BatchConv(16, 32)\n",
    "        self.conv_3 = BatchConv(32, 64)\n",
    "        self.output_conv = nn.Conv2d(64, 1, kernel_size=2, stride=1)\n",
    "        self.output_act = nn.Sigmoid()\n",
    "        \n",
    "    def forward(self, x):\n",
    "        x = self.conv_1(x)\n",
    "        x = self.conv_2(x)\n",
    "        x = self.conv_3(x)\n",
    "        x = self.output_conv(x)\n",
    "        x = x.view((len(x), -1))\n",
    "        x = self.output_act(x)\n",
    "        return x"
   ]
  },
  {
   "cell_type": "code",
   "execution_count": 9,
   "metadata": {},
   "outputs": [],
   "source": [
    "dataset = MnistDataset(X)\n",
    "dataloader = DataLoader(dataset, batch_size=batch_size, num_workers=0)"
   ]
  },
  {
   "cell_type": "code",
   "execution_count": 10,
   "metadata": {},
   "outputs": [],
   "source": [
    "z_dim = 128\n",
    "\n",
    "\n",
    "torch.manual_seed(seed)\n",
    "g_model = Generator(z_dim).to(device)\n",
    "d_model = Discriminator().to(device)"
   ]
  },
  {
   "cell_type": "code",
   "execution_count": 11,
   "metadata": {},
   "outputs": [],
   "source": [
    "lr = 2e-5\n",
    "epochs = 200\n",
    "\n",
    "fake_label = 0\n",
    "real_label = 1\n",
    "\n",
    "generator_optimizer = optim.Adam(g_model.parameters(), lr=lr, betas=(0.5, 0.999))\n",
    "discriminator_optimizer = optim.Adam(d_model.parameters(), lr=lr, betas=(0.5, 0.999))\n",
    "\n",
    "loss = nn.BCELoss()"
   ]
  },
  {
   "cell_type": "code",
   "execution_count": 12,
   "metadata": {},
   "outputs": [
    {
     "name": "stdout",
     "output_type": "stream",
     "text": [
      "------ Epoch 0 ------\n",
      "Generator loss: 0.689667101734991\n",
      "Discriminator loss: 1.206129604056954\n",
      "------ Epoch 10 ------\n",
      "Generator loss: 1.7178025327003332\n",
      "Discriminator loss: 0.48382319741920116\n",
      "------ Epoch 20 ------\n",
      "Generator loss: 2.8308282739826356\n",
      "Discriminator loss: 0.22894775276499263\n",
      "------ Epoch 30 ------\n",
      "Generator loss: 2.5699033954504458\n",
      "Discriminator loss: 0.29630916227282744\n",
      "------ Epoch 40 ------\n",
      "Generator loss: 2.2201069889546456\n",
      "Discriminator loss: 0.3920432270717011\n",
      "------ Epoch 50 ------\n",
      "Generator loss: 2.005337435045222\n",
      "Discriminator loss: 0.4793519470800977\n",
      "------ Epoch 60 ------\n",
      "Generator loss: 1.8340925016382863\n",
      "Discriminator loss: 0.5479286297170847\n",
      "------ Epoch 70 ------\n",
      "Generator loss: 1.7585174391772955\n",
      "Discriminator loss: 0.5799492639519258\n",
      "------ Epoch 80 ------\n",
      "Generator loss: 1.7354860797619769\n",
      "Discriminator loss: 0.6008339178587582\n",
      "------ Epoch 90 ------\n",
      "Generator loss: 1.7385175977942786\n",
      "Discriminator loss: 0.5952290864641478\n",
      "------ Epoch 100 ------\n",
      "Generator loss: 1.7820957899093628\n",
      "Discriminator loss: 0.5723260578189069\n",
      "------ Epoch 110 ------\n",
      "Generator loss: 1.8162930928059478\n",
      "Discriminator loss: 0.5575057265600925\n",
      "------ Epoch 120 ------\n",
      "Generator loss: 1.8473425705803992\n",
      "Discriminator loss: 0.5505296132330701\n",
      "------ Epoch 130 ------\n",
      "Generator loss: 1.8561812822244315\n",
      "Discriminator loss: 0.5523907960350833\n",
      "------ Epoch 140 ------\n",
      "Generator loss: 1.8820615835281322\n",
      "Discriminator loss: 0.5457900198283734\n",
      "------ Epoch 150 ------\n",
      "Generator loss: 1.9035364670285793\n",
      "Discriminator loss: 0.542736034625883\n",
      "------ Epoch 160 ------\n",
      "Generator loss: 1.9441988912980948\n",
      "Discriminator loss: 0.5315841955861558\n",
      "------ Epoch 170 ------\n",
      "Generator loss: 1.9572874533850502\n",
      "Discriminator loss: 0.5279925039200895\n",
      "------ Epoch 180 ------\n",
      "Generator loss: 1.9830352030456193\n",
      "Discriminator loss: 0.5245288077956324\n",
      "------ Epoch 190 ------\n",
      "Generator loss: 1.99384539976303\n",
      "Discriminator loss: 0.5219363733840141\n"
     ]
    }
   ],
   "source": [
    "g_loss_list = []\n",
    "d_loss_list = []\n",
    "\n",
    "np.random.seed(seed)\n",
    "torch.manual_seed(seed)\n",
    "g_model.train()\n",
    "d_model.train()\n",
    "\n",
    "for epoch in range(epochs):\n",
    "    epoch_g_loss = 0.0\n",
    "    epoch_d_loss = 0.0\n",
    "    \n",
    "    for (_, x) in enumerate(dataloader):\n",
    "        # Discriminator part\n",
    "        d_model.zero_grad()\n",
    "        \n",
    "        targets = torch.full((len(x), 1), real_label, device=device)\n",
    "        p_real = d_model(x)\n",
    "        d_loss_real = loss(p_real, targets)\n",
    "        d_loss_real.backward()\n",
    "        \n",
    "        z = np.random.normal(0, 1, size=(len(x), z_dim, 1, 1))\n",
    "        z = np.clip(z, -1, 1)\n",
    "        \n",
    "        z = torch.from_numpy(z).float().to(device)\n",
    "        fake_img = g_model(z)\n",
    "        \n",
    "        p_fake = d_model(fake_img.detach())\n",
    "        \n",
    "        targets.fill_(fake_label)\n",
    "        d_loss_fake = loss(p_fake, targets)\n",
    "        d_loss_fake.backward()\n",
    "        \n",
    "        discriminator_optimizer.step()\n",
    "        d_loss = d_loss_real + d_loss_fake\n",
    "        epoch_d_loss += d_loss.detach().cpu().numpy()\n",
    "        \n",
    "        # Generator part\n",
    "        g_model.zero_grad()\n",
    "        p_fake = d_model(fake_img)\n",
    "        \n",
    "        # Note that we use real label here since we want to fool the discriminator\n",
    "        targets.fill_(real_label)\n",
    "        \n",
    "        g_loss = loss(p_fake, targets)\n",
    "        g_loss.backward()\n",
    "        generator_optimizer.step()\n",
    "        epoch_g_loss += g_loss.detach().cpu().numpy()\n",
    "        \n",
    "    d_loss_list.append(epoch_d_loss / len(dataloader))\n",
    "    g_loss_list.append(epoch_g_loss / len(dataloader))\n",
    "    \n",
    "    if epoch % 10 == 0:\n",
    "        print(f\"------ Epoch {epoch} ------\")\n",
    "        print(f\"Generator loss: {epoch_g_loss / len(dataloader)}\")\n",
    "        print(f\"Discriminator loss: {epoch_d_loss / len(dataloader)}\")"
   ]
  },
  {
   "cell_type": "code",
   "execution_count": 13,
   "metadata": {},
   "outputs": [
    {
     "data": {
      "image/png": "[encoded data removed]",
      "text/plain": [
       "<Figure size 576x576 with 1 Axes>"
      ]
     },
     "metadata": {},
     "output_type": "display_data"
    }
   ],
   "source": [
    "plt.figure(figsize=(8, 8))\n",
    "plt.plot(d_loss_list, \"b\", label=\"D\")\n",
    "plt.plot(g_loss_list, \"r\", label=\"G\")\n",
    "plt.xlabel(\"Epoch\")\n",
    "plt.ylabel(\"Loss\")\n",
    "plt.legend()\n",
    "plt.show()"
   ]
  },
  {
   "cell_type": "code",
   "execution_count": 14,
   "metadata": {},
   "outputs": [],
   "source": [
    "np.random.seed(seed)\n",
    "g_model.eval()\n",
    "\n",
    "z = np.random.normal(0, 1, size=(9, z_dim, 1, 1))\n",
    "z = np.clip(z, -1, 1)\n",
    "z = torch.from_numpy(z).float().to(device)\n",
    "img_fake = g_model(z)\n",
    "img_fake = img_fake[:, 0, :, :].detach().cpu().numpy()\n",
    "\n",
    "img_fake = (img_fake + 1) * 255 / 2\n",
    "img_fake = np.round(img_fake)"
   ]
  },
  {
   "cell_type": "code",
   "execution_count": 15,
   "metadata": {},
   "outputs": [
    {
     "data": {
      "image/png": "[encoded data removed]",
      "text/plain": [
       "<Figure size 576x576 with 9 Axes>"
      ]
     },
     "metadata": {},
     "output_type": "display_data"
    }
   ],
   "source": [
    "# Fake images\n",
    "fig, ax = plt.subplots(3, 3, figsize=(8, 8))\n",
    "\n",
    "for i in range(3):\n",
    "    for j in range(3):\n",
    "        ax[i, j].imshow(img_fake[i*3 + j, :, :], cmap=\"gray\")\n",
    "plt.show()"
   ]
  },
  {
   "cell_type": "code",
   "execution_count": 16,
   "metadata": {},
   "outputs": [
    {
     "data": {
      "image/png": "[encoded data removed]",
      "text/plain": [
       "<Figure size 432x288 with 1 Axes>"
      ]
     },
     "metadata": {},
     "output_type": "display_data"
    }
   ],
   "source": [
    "# Real image\n",
    "plt.imshow(X[0, :].reshape(28, 28), cmap=\"gray\")\n",
    "plt.show()"
   ]
  }
 ],
 "metadata": {
  "kernelspec": {
   "display_name": "Python 3",
   "language": "python",
   "name": "python3"
  },
  "language_info": {
   "codemirror_mode": {
    "name": "ipython",
    "version": 3
   },
   "file_extension": ".py",
   "mimetype": "text/x-python",
   "name": "python",
   "nbconvert_exporter": "python",
   "pygments_lexer": "ipython3",
   "version": "3.6.4"
  }
 },
 "nbformat": 4,
 "nbformat_minor": 2
}
