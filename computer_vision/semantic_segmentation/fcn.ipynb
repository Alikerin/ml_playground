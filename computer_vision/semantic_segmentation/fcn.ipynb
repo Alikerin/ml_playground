{
 "cells": [
  {
   "cell_type": "code",
   "execution_count": 1,
   "metadata": {},
   "outputs": [],
   "source": [
    "import glob\n",
    "from PIL import Image\n",
    "import numpy as np"
   ]
  },
  {
   "cell_type": "code",
   "execution_count": 2,
   "metadata": {},
   "outputs": [],
   "source": [
    "import torch\n",
    "import torch.nn as nn\n",
    "import torch.nn.functional as F\n",
    "from torch.utils.data import Dataset\n",
    "from torchvision.models import vgg16"
   ]
  },
  {
   "cell_type": "code",
   "execution_count": 3,
   "metadata": {},
   "outputs": [],
   "source": [
    "color_2_index = np.asarray([\n",
    "    [0, 0, 0],\n",
    "    [128, 0, 0],\n",
    "    [0, 128, 0],\n",
    "    [128, 128, 0],\n",
    "    [0, 0, 128],\n",
    "    [128, 0, 128],\n",
    "    [0, 128, 128],\n",
    "    [128, 128, 128],\n",
    "    [64, 0, 0],\n",
    "    [192, 0, 0],\n",
    "    [64, 128, 0],\n",
    "    [192, 128, 0],\n",
    "    [64, 0, 128],\n",
    "    [192, 0, 128],\n",
    "    [64, 128, 128],\n",
    "    [192, 128, 128],\n",
    "    [0, 64, 0],\n",
    "    [128, 64, 0],\n",
    "    [0, 192, 0],\n",
    "    [128, 192, 0],\n",
    "    [0, 64, 128],\n",
    "    ])\n",
    "\n",
    "class_names = ['background', 'aeroplane', 'bicycle', 'bird', 'boat',\n",
    "                'bottle', 'bus', 'car', 'cat', 'chair', 'cow', 'diningtable',\n",
    "                'dog', 'horse', 'motorbike', 'person', 'potted-plant',\n",
    "                'sheep', 'sofa', 'train', 'tv/monitor']"
   ]
  },
  {
   "cell_type": "code",
   "execution_count": 4,
   "metadata": {},
   "outputs": [],
   "source": [
    "path = \"data/VOCdevkit/VOC2012/\"\n",
    "img_size = 224"
   ]
  },
  {
   "cell_type": "code",
   "execution_count": 5,
   "metadata": {},
   "outputs": [],
   "source": [
    "class PascalVoc(Dataset):\n",
    "    def __init__(self, path, img_size):\n",
    "        \n",
    "        self.seg_folder = \"SegmentationClass/\"\n",
    "        self.img_folder = \"JPEGImages/\"\n",
    "        \n",
    "        self.segmentation_imgs = glob.glob(path + self.seg_folder + \"*\")\n",
    "        self.img_size = img_size\n",
    "        \n",
    "        self.mean = torch.tensor([0.485, 0.456, 0.406]).view((1, 1, 3))\n",
    "        self.std = torch.tensor([0.229, 0.224, 0.225]).view((1, 1, 3))\n",
    "        \n",
    "    def __len__(self):\n",
    "        return len(self.segmentation_imgs)\n",
    "    \n",
    "    @staticmethod\n",
    "    def create_label_mask(mask_img):\n",
    "        mask = np.array(mask_img).astype(int)\n",
    "        label_mask = np.zeros((mask.shape[0], mask.shape[1]), dtype=np.int16)\n",
    "\n",
    "        for idx, label in enumerate(color_2_index):\n",
    "            label_mask[np.where(np.all(mask == label, axis=-1))[:2]] = idx\n",
    "        \n",
    "        label_mask = label_mask.astype(int)\n",
    "        return label_mask\n",
    "    \n",
    "    def __getitem__(self, idx):\n",
    "        mask_path = self.segmentation_imgs[idx]\n",
    "        file_name = mask_path.split(\"\\\\\")[1]\n",
    "\n",
    "        mask_img = Image.open(mask_path).convert('RGB')\n",
    "        mask_img = mask_img.resize((self.img_size, self.img_size))\n",
    "        mask_img = PascalVoc.create_label_mask(mask_img)\n",
    "        mask_img = torch.from_numpy(mask_img).int()\n",
    "        \n",
    "        img_name = path + self.img_folder + file_name\n",
    "        img_name = img_name.split(\".\")[0] + \".jpg\"\n",
    "\n",
    "        img = Image.open(img_name)\n",
    "        img = img.resize((self.img_size, self.img_size))\n",
    "        img = torch.from_numpy(np.array(img)).float() / 255\n",
    "        img = (img - self.mean) / self.std\n",
    "        \n",
    "        return (img, mask_img)"
   ]
  },
  {
   "cell_type": "code",
   "execution_count": 6,
   "metadata": {},
   "outputs": [],
   "source": [
    "dataset = PascalVoc(path, img_size)"
   ]
  },
  {
   "cell_type": "code",
   "execution_count": 7,
   "metadata": {},
   "outputs": [],
   "source": [
    "class trans_conv2d(nn.Module):\n",
    "    def __init__(self, in_channels, out_channels, stride=2):\n",
    "        super().__init__()\n",
    "        self.conv = nn.ConvTranspose2d(in_channels, out_channels,\n",
    "                                       kernel_size=3, stride=stride,\n",
    "                                       bias=True, padding=1,\n",
    "                                       output_padding=1)\n",
    "        \n",
    "    def forward(self, x):\n",
    "        x = self.conv(x)\n",
    "        x = F.relu(x)\n",
    "        return x\n",
    "\n",
    "class fcn_8(nn.Module):\n",
    "    def __init__(self, num_classes):\n",
    "        super().__init__()\n",
    "        \n",
    "        self.num_classes = num_classes\n",
    "        \n",
    "        # Indicies used for FCN\n",
    "        self.fcn_block_indicies = [(0, 17), (17, 24), (24, 31)]\n",
    "        self.init_vgg()\n",
    "        \n",
    "        self.pool_5_upsample = trans_conv2d(512, 512)\n",
    "        self.pool_4_upsample = trans_conv2d(512, 256) \n",
    "        self.pool_3_upsample = trans_conv2d(256, 128)\n",
    "        \n",
    "        self.upsample_score_1 = trans_conv2d(128, 64)\n",
    "        self.upsample_score_2 = trans_conv2d(64, 32)\n",
    "        \n",
    "        self.out_conv = nn.Conv2d(32, self.num_classes, kernel_size=1)\n",
    "    \n",
    "    def init_vgg(self):\n",
    "        model = vgg16(pretrained=True)\n",
    "        self.blocks = []\n",
    "        \n",
    "        for block_idx in self.fcn_block_indicies:\n",
    "            self.blocks.append(model.features[block_idx[0]:block_idx[1]])\n",
    "        \n",
    "        # The network does not update the VGG weights\n",
    "        for block in self.blocks:\n",
    "            for param in block.parameters():\n",
    "                param.requires_grad = False\n",
    "        \n",
    "    \n",
    "    def forward(self, x):\n",
    "        x_3 = self.blocks[0](x)\n",
    "        x_4 = self.blocks[1](x_3)\n",
    "        x_5 = self.blocks[2](x_4)\n",
    "        \n",
    "        x_5 = self.pool_5_upsample(x_5)\n",
    "        x_4 = self.pool_4_upsample(x_4 + x_5)\n",
    "        x_3 = self.pool_3_upsample(x_3 + x_4)\n",
    "        \n",
    "        score = self.upsample_score_1(x_3)\n",
    "        score = self.upsample_score_2(score)\n",
    "        \n",
    "        score = self.out_conv(score)\n",
    "        score = F.log_softmax(score, dim=1)\n",
    "        return score"
   ]
  },
  {
   "cell_type": "code",
   "execution_count": 8,
   "metadata": {},
   "outputs": [],
   "source": [
    "model = fcn_8(len(class_names))"
   ]
  },
  {
   "cell_type": "code",
   "execution_count": 9,
   "metadata": {},
   "outputs": [],
   "source": [
    "dummy_input = torch.from_numpy(np.random.uniform(-1, 1, size=(1, 3, 224, 224))).float()"
   ]
  },
  {
   "cell_type": "code",
   "execution_count": 10,
   "metadata": {},
   "outputs": [],
   "source": [
    "x = model(dummy_input)"
   ]
  },
  {
   "cell_type": "code",
   "execution_count": 11,
   "metadata": {},
   "outputs": [
    {
     "data": {
      "text/plain": [
       "torch.Size([1, 21, 224, 224])"
      ]
     },
     "execution_count": 11,
     "metadata": {},
     "output_type": "execute_result"
    }
   ],
   "source": [
    "x.shape"
   ]
  },
  {
   "cell_type": "code",
   "execution_count": null,
   "metadata": {},
   "outputs": [],
   "source": []
  }
 ],
 "metadata": {
  "kernelspec": {
   "display_name": "Python 3",
   "language": "python",
   "name": "python3"
  },
  "language_info": {
   "codemirror_mode": {
    "name": "ipython",
    "version": 3
   },
   "file_extension": ".py",
   "mimetype": "text/x-python",
   "name": "python",
   "nbconvert_exporter": "python",
   "pygments_lexer": "ipython3",
   "version": "3.6.4"
  }
 },
 "nbformat": 4,
 "nbformat_minor": 2
}
