{
 "cells": [
  {
   "cell_type": "code",
   "execution_count": 1,
   "metadata": {},
   "outputs": [],
   "source": [
    "import numpy as np\n",
    "import pandas as pd\n",
    "import torch\n",
    "import torch.nn as nn\n",
    "import torch.nn.functional as F\n",
    "from torch.utils.data import Dataset, DataLoader\n",
    "import torch.optim as optim\n",
    "from torch.optim.lr_scheduler import StepLR\n",
    "from sklearn.model_selection import train_test_split"
   ]
  },
  {
   "cell_type": "code",
   "execution_count": 2,
   "metadata": {},
   "outputs": [],
   "source": [
    "PATH = \"data/\"\n",
    "device = \"cuda\"\n",
    "seed = 42\n",
    "file_name = PATH + \"train.csv\""
   ]
  },
  {
   "cell_type": "code",
   "execution_count": 3,
   "metadata": {},
   "outputs": [],
   "source": [
    "class MNIST(Dataset):\n",
    "    def __init__(self, X, y):\n",
    "        self.y = torch.from_numpy(y).long().to(device)\n",
    "        X = X.reshape(X.shape[0], 1, 28, 28)\n",
    "        X = X / 255.0\n",
    "        self.X = torch.from_numpy(X).float().to(device)\n",
    "    \n",
    "    def __len__(self):\n",
    "        return self.X.shape[0]\n",
    "    \n",
    "    def __getitem__(self, idx):\n",
    "        return (self.X[idx,:,:,:], self.y[idx])"
   ]
  },
  {
   "cell_type": "code",
   "execution_count": 4,
   "metadata": {},
   "outputs": [],
   "source": [
    "df = pd.read_csv(file_name)\n",
    "y = df[\"label\"].values\n",
    "X = df.drop(\"label\", axis=1).values\n",
    "\n",
    "X_train, X_test, y_train, y_test = train_test_split(X, y, test_size=0.3, random_state=seed)"
   ]
  },
  {
   "cell_type": "code",
   "execution_count": 5,
   "metadata": {},
   "outputs": [],
   "source": [
    "batch_size = 256\n",
    "train_dataset = MNIST(X_train, y_train)\n",
    "train_loader = DataLoader(train_dataset, batch_size=batch_size, shuffle=True, num_workers=0)\n",
    "\n",
    "test_dataset = MNIST(X_test, y_test)\n",
    "test_loader = DataLoader(test_dataset, batch_size=batch_size, shuffle=False, num_workers=0)"
   ]
  },
  {
   "cell_type": "markdown",
   "metadata": {},
   "source": [
    "# DenseNet"
   ]
  },
  {
   "cell_type": "markdown",
   "metadata": {},
   "source": [
    "![title](data/DenseNet.png)"
   ]
  },
  {
   "cell_type": "code",
   "execution_count": 6,
   "metadata": {},
   "outputs": [],
   "source": [
    "class DenseLayer(nn.Module):\n",
    "    def __init__(self, in_channels, between_channels, growth_rate):\n",
    "        super().__init__()\n",
    "\n",
    "        layers = []\n",
    "        layers.append(nn.BatchNorm2d(in_channels))\n",
    "        layers.append(nn.ReLU(inplace=True))\n",
    "        layers.append(nn.Conv2d(in_channels, between_channels, kernel_size=1,\n",
    "                                stride=1, bias=False))\n",
    "        layers.append(nn.BatchNorm2d(between_channels))\n",
    "        layers.append(nn.ReLU(inplace=True))\n",
    "        layers.append(nn.Conv2d(between_channels, growth_rate, kernel_size=3,\n",
    "                                stride=1, padding=1, bias=False))\n",
    "\n",
    "        self.layers = nn.Sequential(*layers)\n",
    "\n",
    "    def forward(self, x):\n",
    "        out = self.layers(x)\n",
    "        return torch.cat([x, out], dim=1)\n",
    "\n",
    "class DenseBlock(nn.Module):\n",
    "    def __init__(self, in_channels, between_channels, growth_rate, num_layers):\n",
    "        super().__init__()\n",
    "\n",
    "        block = []\n",
    "        for i in range(num_layers):\n",
    "            block.append(DenseLayer(in_channels + i * growth_rate, between_channels, growth_rate))\n",
    "        self.block = nn.Sequential(*block)\n",
    "\n",
    "    def forward(self, x):\n",
    "        return self.block(x)\n",
    "\n",
    "class Transition(nn.Module):\n",
    "    def __init__(self, in_channels, out_channels):\n",
    "        super().__init__()\n",
    "\n",
    "        self.bn = nn.BatchNorm2d(in_channels)\n",
    "        self.conv = nn.Conv2d(in_channels, out_channels, kernel_size=1,\n",
    "                              stride=1, bias=False)\n",
    "        self.pool = nn.AvgPool2d(kernel_size=3, stride=2)\n",
    "\n",
    "    def forward(self, x):\n",
    "        x = self.bn(x)\n",
    "        x = self.conv(x)\n",
    "        x = self.pool(x)\n",
    "        return x\n",
    "\n",
    "class DenseNet(nn.Module):\n",
    "    def __init__(self, growth_rate=4, init_channels=32, num_layers=3):\n",
    "        super().__init__()\n",
    "\n",
    "        block_output = [init_channels + i * num_layers * growth_rate for i in range(1, 4)]\n",
    "\n",
    "        self.conv_1 = nn.Conv2d(1, init_channels, kernel_size=5,\n",
    "                                stride=1, bias=False)\n",
    "\n",
    "        self.block_1 = DenseBlock(init_channels, 4 * growth_rate, growth_rate, num_layers)\n",
    "        self.transition_1 = Transition(block_output[0], block_output[0])\n",
    "\n",
    "        self.block_2 = DenseBlock(block_output[0], 4 * growth_rate, growth_rate, num_layers)\n",
    "        self.transition_2 = Transition(block_output[1], block_output[1])\n",
    "\n",
    "        self.block_3 = DenseBlock(block_output[1], 4 * growth_rate, growth_rate, num_layers)\n",
    "\n",
    "        self.out = nn.Linear(block_output[-1], 10)\n",
    "\n",
    "    def forward(self, x):\n",
    "        x = self.conv_1(x)\n",
    "\n",
    "        x = self.block_1(x)\n",
    "        x = self.transition_1(x)\n",
    "\n",
    "        x = self.block_2(x)\n",
    "        x = self.transition_2(x)\n",
    "\n",
    "        x = self.block_3(x)\n",
    "\n",
    "        x = F.adaptive_avg_pool2d(x, 1)\n",
    "        x = x.view(len(x), -1)\n",
    "\n",
    "        x = self.out(x)\n",
    "        return F.log_softmax(x, dim=1)"
   ]
  },
  {
   "cell_type": "code",
   "execution_count": 7,
   "metadata": {},
   "outputs": [],
   "source": [
    "n_epochs = 50\n",
    "lr = 1e-3\n",
    "weight_decay = 1e-5\n",
    "\n",
    "torch.manual_seed(seed)\n",
    "model = DenseNet().to(device)\n",
    "\n",
    "optimizer = optim.Adam(model.parameters(), lr=lr, weight_decay=weight_decay)\n",
    "lr_sceduler = StepLR(optimizer, gamma=0.5, step_size=10)"
   ]
  },
  {
   "cell_type": "code",
   "execution_count": 8,
   "metadata": {
    "scrolled": false
   },
   "outputs": [
    {
     "name": "stdout",
     "output_type": "stream",
     "text": [
      "Epoch 0: train loss 0.005685, test loss 0.003544, test accuracy 0.7025\n",
      "Epoch 5: train loss 0.00033, test loss 0.000652, test accuracy 0.9545\n",
      "Epoch 10: train loss 0.000155, test loss 0.000266, test accuracy 0.9804\n",
      "Epoch 15: train loss 0.000114, test loss 0.000259, test accuracy 0.9818\n",
      "Epoch 20: train loss 6.4e-05, test loss 0.000199, test accuracy 0.9854\n",
      "Epoch 25: train loss 4.8e-05, test loss 0.000186, test accuracy 0.9871\n",
      "Epoch 30: train loss 3e-05, test loss 0.000197, test accuracy 0.9869\n",
      "Epoch 35: train loss 2.4e-05, test loss 0.000197, test accuracy 0.987\n",
      "Epoch 40: train loss 1.9e-05, test loss 0.000204, test accuracy 0.9866\n",
      "Epoch 45: train loss 1.5e-05, test loss 0.000201, test accuracy 0.987\n"
     ]
    }
   ],
   "source": [
    "torch.manual_seed(seed)\n",
    "for epoch in range(0, n_epochs):\n",
    "    lr_sceduler.step()\n",
    "    model.train()\n",
    "    train_loss = 0\n",
    "    for _, (x, y) in enumerate(train_loader):\n",
    "            model.zero_grad()\n",
    "            output = model(x)\n",
    "            batch_loss = F.nll_loss(output, y)\n",
    "\n",
    "            batch_loss.backward()\n",
    "            optimizer.step()\n",
    "            train_loss += batch_loss.cpu().detach().numpy() / x.shape[0]\n",
    "    train_loss = np.round(train_loss / len(train_loader), 6)\n",
    "    \n",
    "    model.eval()\n",
    "    test_loss = 0\n",
    "    test_acc = 0\n",
    "    for _, (x, y) in enumerate(test_loader):\n",
    "        output = model(x)\n",
    "        batch_loss = F.nll_loss(output, y)\n",
    "        test_loss += batch_loss.cpu().detach().numpy() / x.shape[0]\n",
    "        \n",
    "        y_hat = torch.argmax(output, dim=1)\n",
    "        acc = (y_hat == y).sum().float() / x.shape[0]\n",
    "        acc = acc.cpu().detach().numpy()\n",
    "        test_acc += acc\n",
    "\n",
    "    test_loss = np.round(test_loss / len(test_loader), 6)\n",
    "    test_acc = np.round(test_acc / len(test_loader), 4)\n",
    "\n",
    "    if epoch % 5 == 0:\n",
    "        print(\"Epoch {}: train loss {}, test loss {}, test accuracy {}\".format(epoch,\n",
    "                                                                               train_loss,\n",
    "                                                                               test_loss,\n",
    "                                                                               test_acc))"
   ]
  }
 ],
 "metadata": {
  "kernelspec": {
   "display_name": "Python 3",
   "language": "python",
   "name": "python3"
  },
  "language_info": {
   "codemirror_mode": {
    "name": "ipython",
    "version": 3
   },
   "file_extension": ".py",
   "mimetype": "text/x-python",
   "name": "python",
   "nbconvert_exporter": "python",
   "pygments_lexer": "ipython3",
   "version": "3.6.4"
  }
 },
 "nbformat": 4,
 "nbformat_minor": 2
}
