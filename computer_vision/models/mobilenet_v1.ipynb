{
 "cells": [
  {
   "cell_type": "code",
   "execution_count": 1,
   "metadata": {},
   "outputs": [],
   "source": [
    "import numpy as np\n",
    "import pandas as pd\n",
    "import torch\n",
    "import torch.nn as nn\n",
    "import torch.nn.functional as F\n",
    "from torch.utils.data import Dataset, DataLoader\n",
    "import torch.optim as optim\n",
    "from torch.optim.lr_scheduler import StepLR\n",
    "from sklearn.model_selection import train_test_split"
   ]
  },
  {
   "cell_type": "code",
   "execution_count": 2,
   "metadata": {},
   "outputs": [],
   "source": [
    "PATH = \"data/\"\n",
    "device = \"cuda\"\n",
    "seed = 42\n",
    "file_name = PATH + \"train.csv\""
   ]
  },
  {
   "cell_type": "code",
   "execution_count": 3,
   "metadata": {},
   "outputs": [],
   "source": [
    "class MNIST(Dataset):\n",
    "    def __init__(self, X, y):\n",
    "        self.y = torch.from_numpy(y).long().to(device)\n",
    "        X = X.reshape(X.shape[0], 1, 28, 28)\n",
    "        X = X / 255.0\n",
    "        self.X = torch.from_numpy(X).float().to(device)\n",
    "\n",
    "    def __len__(self):\n",
    "        return self.X.shape[0]\n",
    "\n",
    "    def __getitem__(self, idx):\n",
    "        return (self.X[idx,:,:,:], self.y[idx])"
   ]
  },
  {
   "cell_type": "code",
   "execution_count": 4,
   "metadata": {},
   "outputs": [],
   "source": [
    "df = pd.read_csv(file_name)\n",
    "y = df[\"label\"].values\n",
    "X = df.drop(\"label\", axis=1).values\n",
    "\n",
    "X_train, X_test, y_train, y_test = train_test_split(X, y, test_size=0.3, random_state=seed)"
   ]
  },
  {
   "cell_type": "code",
   "execution_count": 5,
   "metadata": {},
   "outputs": [],
   "source": [
    "batch_size = 256\n",
    "train_dataset = MNIST(X_train, y_train)\n",
    "train_loader = DataLoader(train_dataset, batch_size=batch_size, shuffle=True, num_workers=0)\n",
    "\n",
    "test_dataset = MNIST(X_test, y_test)\n",
    "test_loader = DataLoader(test_dataset, batch_size=batch_size, shuffle=False, num_workers=0)"
   ]
  },
  {
   "cell_type": "markdown",
   "metadata": {},
   "source": [
    "# MobileNet V1"
   ]
  },
  {
   "cell_type": "markdown",
   "metadata": {},
   "source": [
    "![title](data/DSConvolution.png)"
   ]
  },
  {
   "cell_type": "code",
   "execution_count": 6,
   "metadata": {},
   "outputs": [],
   "source": [
    "class BnLayer(nn.Module):\n",
    "    def __init__(self, in_channels, out_channels, kernel_size=3, stride=1, padding=0, groups=1):\n",
    "        super().__init__()\n",
    "        self.conv = nn.Conv2d(in_channels, out_channels, kernel_size=kernel_size, stride=stride,\n",
    "                              padding=padding, groups=groups, bias=False)\n",
    "        \n",
    "        self.bn = nn.BatchNorm2d(out_channels)\n",
    "\n",
    "    def forward(self, x):\n",
    "        x = self.conv(x)\n",
    "        x = self.bn(x)\n",
    "        x = F.relu(x)\n",
    "        return x"
   ]
  },
  {
   "cell_type": "code",
   "execution_count": 7,
   "metadata": {},
   "outputs": [],
   "source": [
    "class Block(nn.Module):\n",
    "    def __init__(self, in_channels, out_channels, stride=1):\n",
    "        super().__init__()\n",
    "\n",
    "        # Depthwise convolution\n",
    "        self.bn_layer_3x3 = BnLayer(in_channels, in_channels, kernel_size=3, stride=stride, groups=in_channels)\n",
    "\n",
    "        # Pointwise convolution\n",
    "        self.bn_layer_1x1 = BnLayer(in_channels, out_channels, kernel_size=1, stride=1)\n",
    "\n",
    "    def forward(self, x):\n",
    "        x = self.bn_layer_3x3(x)\n",
    "        x = self.bn_layer_1x1(x)\n",
    "        return x"
   ]
  },
  {
   "cell_type": "code",
   "execution_count": 8,
   "metadata": {},
   "outputs": [],
   "source": [
    "class MobileNet(nn.Module):\n",
    "    def __init__(self, num_classes=10):\n",
    "        super().__init__()\n",
    "        self.init_layer = BnLayer(1, 16, kernel_size=3, stride=2)\n",
    "        self.block_1 = Block(16, 32, stride=2)\n",
    "        self.block_2 = Block(32, 64, stride=2)\n",
    "\n",
    "        self.dropout = nn.Dropout(p=0.5)\n",
    "        self.out = nn.Linear(64, num_classes)\n",
    "\n",
    "    def forward(self, x):\n",
    "        x = self.init_layer(x)\n",
    "        x = self.block_1(x)\n",
    "        x = self.block_2(x)\n",
    "\n",
    "        x = F.adaptive_avg_pool2d(x, 1)\n",
    "        x = x.view(x.size(0), -1)\n",
    "        x = self.dropout(x)\n",
    "        x = self.out(x)\n",
    "        return F.log_softmax(x, dim=-1)"
   ]
  },
  {
   "cell_type": "code",
   "execution_count": 9,
   "metadata": {},
   "outputs": [],
   "source": [
    "n_epochs = 50\n",
    "lr = 1e-3\n",
    "weight_decay = 1e-5\n",
    "\n",
    "torch.manual_seed(seed)\n",
    "model = MobileNet().to(device)\n",
    "\n",
    "optimizer = optim.Adam(model.parameters(), lr=lr, weight_decay=weight_decay)\n",
    "lr_sceduler = StepLR(optimizer, gamma=0.5, step_size=10)"
   ]
  },
  {
   "cell_type": "code",
   "execution_count": 10,
   "metadata": {},
   "outputs": [
    {
     "name": "stdout",
     "output_type": "stream",
     "text": [
      "Epoch 0: train loss 0.007893, test loss 0.00666, test accuracy 0.5632\n",
      "Epoch 5: train loss 0.001544, test loss 0.001097, test accuracy 0.9318\n",
      "Epoch 10: train loss 0.001016, test loss 0.000732, test accuracy 0.9507\n",
      "Epoch 15: train loss 0.000912, test loss 0.000645, test accuracy 0.9546\n",
      "Epoch 20: train loss 0.000812, test loss 0.0006, test accuracy 0.9591\n",
      "Epoch 25: train loss 0.000778, test loss 0.000582, test accuracy 0.9597\n",
      "Epoch 30: train loss 0.000754, test loss 0.000568, test accuracy 0.9599\n",
      "Epoch 35: train loss 0.000736, test loss 0.000561, test accuracy 0.9603\n",
      "Epoch 40: train loss 0.000727, test loss 0.000556, test accuracy 0.9613\n",
      "Epoch 45: train loss 0.000714, test loss 0.000551, test accuracy 0.9619\n"
     ]
    }
   ],
   "source": [
    "torch.manual_seed(seed)\n",
    "for epoch in range(0, n_epochs):\n",
    "    lr_sceduler.step()\n",
    "    model.train()\n",
    "    train_loss = 0\n",
    "    for _, (x, y) in enumerate(train_loader):\n",
    "            model.zero_grad()\n",
    "            output = model(x)\n",
    "            batch_loss = F.nll_loss(output, y)\n",
    "\n",
    "            batch_loss.backward()\n",
    "            optimizer.step()\n",
    "            train_loss += batch_loss.cpu().detach().numpy() / x.shape[0]\n",
    "\n",
    "    train_loss = np.round(train_loss / len(train_loader), 6)\n",
    "\n",
    "    model.eval()\n",
    "    test_loss = 0\n",
    "    test_acc = 0\n",
    "    for _, (x, y) in enumerate(test_loader):\n",
    "        output = model(x)\n",
    "        batch_loss = F.nll_loss(output, y)\n",
    "        test_loss += batch_loss.cpu().detach().numpy() / x.shape[0]\n",
    "\n",
    "        y_hat = torch.argmax(output, dim=1)\n",
    "        acc = (y_hat == y).sum().float() / x.shape[0]\n",
    "        acc = acc.cpu().detach().numpy()\n",
    "        test_acc += acc\n",
    "\n",
    "    test_loss = np.round(test_loss / len(test_loader), 6)\n",
    "    test_acc = np.round(test_acc / len(test_loader), 4)\n",
    "\n",
    "    if epoch % 5 == 0:\n",
    "        print(\"Epoch {}: train loss {}, test loss {}, test accuracy {}\".format(epoch,\n",
    "                                                                               train_loss,\n",
    "                                                                               test_loss,\n",
    "                                                                               test_acc))"
   ]
  }
 ],
 "metadata": {
  "kernelspec": {
   "display_name": "Python 3",
   "language": "python",
   "name": "python3"
  },
  "language_info": {
   "codemirror_mode": {
    "name": "ipython",
    "version": 3
   },
   "file_extension": ".py",
   "mimetype": "text/x-python",
   "name": "python",
   "nbconvert_exporter": "python",
   "pygments_lexer": "ipython3",
   "version": "3.6.4"
  }
 },
 "nbformat": 4,
 "nbformat_minor": 2
}
