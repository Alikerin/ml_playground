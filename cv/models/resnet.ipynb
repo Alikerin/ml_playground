{
 "cells": [
  {
   "cell_type": "code",
   "execution_count": 1,
   "metadata": {},
   "outputs": [],
   "source": [
    "import numpy as np\n",
    "import pandas as pd\n",
    "import torch\n",
    "import torch.nn as nn\n",
    "import torch.nn.functional as F\n",
    "from torch.utils.data import Dataset, DataLoader\n",
    "import torch.optim as optim\n",
    "from sklearn.model_selection import train_test_split"
   ]
  },
  {
   "cell_type": "code",
   "execution_count": 2,
   "metadata": {},
   "outputs": [],
   "source": [
    "PATH = \"data/\"\n",
    "device = \"cuda\"\n",
    "seed = 42\n",
    "file_name = PATH + \"train.csv\""
   ]
  },
  {
   "cell_type": "code",
   "execution_count": 3,
   "metadata": {},
   "outputs": [],
   "source": [
    "class MNIST(Dataset):\n",
    "    def __init__(self, X, y):\n",
    "        self.y = torch.from_numpy(y).long().to(device)\n",
    "        X = X.reshape(X.shape[0], 1, 28, 28)\n",
    "        X = X / 255.0\n",
    "        self.X = torch.from_numpy(X).float().to(device)\n",
    "    \n",
    "    def __len__(self):\n",
    "        return self.X.shape[0]\n",
    "    \n",
    "    def __getitem__(self, idx):\n",
    "        return (self.X[idx,:,:,:], self.y[idx])"
   ]
  },
  {
   "cell_type": "code",
   "execution_count": 4,
   "metadata": {},
   "outputs": [],
   "source": [
    "df = pd.read_csv(file_name)\n",
    "y = df[\"label\"].values\n",
    "X = df.drop(\"label\", axis=1).values\n",
    "\n",
    "X_train, X_test, y_train, y_test = train_test_split(X, y, test_size=0.3, random_state=seed)"
   ]
  },
  {
   "cell_type": "code",
   "execution_count": 5,
   "metadata": {},
   "outputs": [],
   "source": [
    "batch_size = 256\n",
    "train_dataset = MNIST(X_train, y_train)\n",
    "train_loader = DataLoader(train_dataset, batch_size=batch_size, shuffle=True, num_workers=0)\n",
    "\n",
    "test_dataset = MNIST(X_test, y_test)\n",
    "test_loader = DataLoader(test_dataset, batch_size=batch_size, shuffle=False, num_workers=0)"
   ]
  },
  {
   "cell_type": "markdown",
   "metadata": {},
   "source": [
    "# ResNet"
   ]
  },
  {
   "cell_type": "markdown",
   "metadata": {},
   "source": [
    "![title](data/ResNet.png)"
   ]
  },
  {
   "cell_type": "markdown",
   "metadata": {},
   "source": [
    "Note that this is an implemenation of the \"basic block\" (i.e. the left one). The \"bottleneck block\" (i.e. right one) is mostly used for deeper ResNet models (ResNet50, ResNet101 etc)."
   ]
  },
  {
   "cell_type": "code",
   "execution_count": 6,
   "metadata": {},
   "outputs": [],
   "source": [
    "class BnLayer(nn.Module):\n",
    "    def __init__(self, in_channels, out_channels, stride=2, kernel_size=3, padding=1):\n",
    "        super().__init__()\n",
    "        self.conv = nn.Conv2d(in_channels, out_channels, kernel_size=kernel_size, stride=stride,\n",
    "                              bias=False, padding=padding)\n",
    "        \n",
    "        self.bn = nn.BatchNorm2d(out_channels)\n",
    "        \n",
    "    def forward(self, x):\n",
    "        x = self.conv(x)\n",
    "        x = self.bn(x)\n",
    "        return x"
   ]
  },
  {
   "cell_type": "code",
   "execution_count": 7,
   "metadata": {},
   "outputs": [],
   "source": [
    "class ResNetBlock(nn.Module):\n",
    "    def __init__(self, in_channels, out_channels, stride=2, kernel_size=3):\n",
    "        super().__init__()\n",
    "        self.bn_layer_1 = BnLayer(in_channels, out_channels, kernel_size=kernel_size, stride=stride)\n",
    "        self.bn_layer_2 = BnLayer(in_channels, out_channels, kernel_size=kernel_size, stride=stride)\n",
    "    \n",
    "    def forward(self, x):\n",
    "        h = self.bn_layer_1(x)\n",
    "        h = F.relu(h)\n",
    "        h = self.bn_layer_2(h)\n",
    "        x = F.relu(x + h)\n",
    "        return x"
   ]
  },
  {
   "cell_type": "code",
   "execution_count": 8,
   "metadata": {},
   "outputs": [],
   "source": [
    "class ResNet(nn.Module):\n",
    "    def __init__(self, layers, num_classes=10):\n",
    "        super().__init__()\n",
    "        self.init_layer = BnLayer(1, layers[0], kernel_size=5, stride=1, padding=2)\n",
    "        self.bn_layers = nn.ModuleList(BnLayer(layers[i], layers[i + 1], kernel_size=3, stride=2, padding=1)\n",
    "                                            for i in range(len(layers) - 1))\n",
    "        \n",
    "        self.res_layers = nn.ModuleList([ResNetBlock(layers[i + 1], layers[i + 1], stride=1)\n",
    "                                     for i in range(len(layers) - 1)])\n",
    "        \n",
    "        self.dropout = nn.Dropout(p=0.5)\n",
    "        self.out = nn.Linear(layers[-1], num_classes)\n",
    "    \n",
    "    def forward(self, x):\n",
    "        x = F.relu(self.init_layer(x))\n",
    "\n",
    "        for bn, res in zip(self.bn_layers, self.res_layers):\n",
    "            x = F.relu(bn(x))\n",
    "            x = res(x)\n",
    "            \n",
    "        x = F.adaptive_max_pool2d(x, 1)\n",
    "        x = x.view(x.size(0), -1)\n",
    "        x = self.dropout(x)\n",
    "        x = self.out(x)\n",
    "        return F.log_softmax(x, dim=-1)"
   ]
  },
  {
   "cell_type": "code",
   "execution_count": 9,
   "metadata": {},
   "outputs": [],
   "source": [
    "n_epochs = 50\n",
    "lr = 1e-3\n",
    "weight_decay = 1e-6\n",
    "layers = [8, 16, 32, 64]\n",
    "\n",
    "torch.manual_seed(seed)\n",
    "model = ResNet(layers).to(device)\n",
    "optimizer = optim.Adam(model.parameters(), lr=lr, weight_decay=weight_decay)"
   ]
  },
  {
   "cell_type": "code",
   "execution_count": 10,
   "metadata": {},
   "outputs": [
    {
     "name": "stdout",
     "output_type": "stream",
     "text": [
      "Epoch 0: train loss 0.00325, test loss 0.000548, test accuracy 0.9656\n",
      "Epoch 5: train loss 0.000167, test loss 0.000217, test accuracy 0.9849\n",
      "Epoch 10: train loss 9.2e-05, test loss 0.000199, test accuracy 0.9867\n",
      "-----------------------------\n",
      "Decreasing learning rate to: 0.0005\n",
      "-----------------------------\n",
      "Epoch 15: train loss 2e-05, test loss 0.000144, test accuracy 0.9914\n",
      "Epoch 20: train loss 1.7e-05, test loss 0.000219, test accuracy 0.9879\n",
      "-----------------------------\n",
      "Decreasing learning rate to: 0.00025\n",
      "-----------------------------\n",
      "Epoch 25: train loss 5e-06, test loss 0.000153, test accuracy 0.9914\n",
      "Epoch 30: train loss 4e-06, test loss 0.000163, test accuracy 0.9916\n",
      "-----------------------------\n",
      "Decreasing learning rate to: 0.000125\n",
      "-----------------------------\n",
      "Epoch 35: train loss 4e-06, test loss 0.00016, test accuracy 0.9921\n",
      "Epoch 40: train loss 5e-06, test loss 0.000177, test accuracy 0.9919\n",
      "-----------------------------\n",
      "Decreasing learning rate to: 6.25e-05\n",
      "-----------------------------\n",
      "Epoch 45: train loss 3e-06, test loss 0.000171, test accuracy 0.992\n"
     ]
    }
   ],
   "source": [
    "torch.manual_seed(seed)\n",
    "for epoch in range(0, n_epochs):\n",
    "    model.train()\n",
    "    train_loss = 0\n",
    "    for _, (x, y) in enumerate(train_loader):\n",
    "            model.zero_grad()\n",
    "            output = model(x)\n",
    "            batch_loss = F.nll_loss(output, y)\n",
    "            \n",
    "            batch_loss.backward()\n",
    "            optimizer.step()\n",
    "            train_loss += batch_loss / x.shape[0]\n",
    "    \n",
    "    train_loss = np.round(train_loss.cpu().detach().numpy() / len(train_loader), 6)\n",
    "    \n",
    "    model.eval()\n",
    "    test_loss = 0\n",
    "    test_acc = 0\n",
    "    for _, (x, y) in enumerate(test_loader):\n",
    "        output = model(x)\n",
    "        batch_loss = F.nll_loss(output, y)\n",
    "        test_loss += batch_loss / x.shape[0]\n",
    "        \n",
    "        y_hat = torch.argmax(output, dim=1)\n",
    "        acc = (y_hat == y).sum().float() / x.shape[0]\n",
    "        acc = acc.cpu().detach().numpy()\n",
    "        test_acc += acc\n",
    "    \n",
    "    test_loss = np.round(test_loss.cpu().detach().numpy() / len(test_loader), 6)\n",
    "    test_acc = np.round(test_acc / len(test_loader), 4)\n",
    "        \n",
    "    if epoch % 5 == 0:\n",
    "        print(\"Epoch {}: train loss {}, test loss {}, test accuracy {}\".format(epoch,\n",
    "                                                                               train_loss,\n",
    "                                                                               test_loss,\n",
    "                                                                               test_acc))\n",
    "    \n",
    "    if epoch % 10 == 0 and epoch != 0:\n",
    "        for param_group in optimizer.param_groups:\n",
    "            param_group['lr'] = param_group[\"lr\"] * 0.5\n",
    "        print(\"-----------------------------\")\n",
    "        print(\"Decreasing learning rate to: {}\".format(param_group[\"lr\"]))\n",
    "        print(\"-----------------------------\")"
   ]
  }
 ],
 "metadata": {
  "kernelspec": {
   "display_name": "Python 3",
   "language": "python",
   "name": "python3"
  },
  "language_info": {
   "codemirror_mode": {
    "name": "ipython",
    "version": 3
   },
   "file_extension": ".py",
   "mimetype": "text/x-python",
   "name": "python",
   "nbconvert_exporter": "python",
   "pygments_lexer": "ipython3",
   "version": "3.6.4"
  }
 },
 "nbformat": 4,
 "nbformat_minor": 2
}
