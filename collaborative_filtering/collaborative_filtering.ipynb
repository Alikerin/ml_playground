{
 "cells": [
  {
   "cell_type": "code",
   "execution_count": 1,
   "metadata": {},
   "outputs": [],
   "source": [
    "import pandas as pd\n",
    "import numpy as np\n",
    "import torch\n",
    "import torch.optim as optim\n",
    "from torch.utils.data import Dataset, DataLoader\n",
    "import torch.nn as nn\n",
    "import torch.nn.functional as F"
   ]
  },
  {
   "cell_type": "code",
   "execution_count": 2,
   "metadata": {},
   "outputs": [],
   "source": [
    "path = \"data/\"\n",
    "device = \"cuda\"\n",
    "seed = 42"
   ]
  },
  {
   "cell_type": "code",
   "execution_count": 3,
   "metadata": {},
   "outputs": [
    {
     "data": {
      "text/html": [
       "<div>\n",
       "<style scoped>\n",
       "    .dataframe tbody tr th:only-of-type {\n",
       "        vertical-align: middle;\n",
       "    }\n",
       "\n",
       "    .dataframe tbody tr th {\n",
       "        vertical-align: top;\n",
       "    }\n",
       "\n",
       "    .dataframe thead th {\n",
       "        text-align: right;\n",
       "    }\n",
       "</style>\n",
       "<table border=\"1\" class=\"dataframe\">\n",
       "  <thead>\n",
       "    <tr style=\"text-align: right;\">\n",
       "      <th></th>\n",
       "      <th>userId</th>\n",
       "      <th>movieId</th>\n",
       "      <th>rating</th>\n",
       "      <th>timestamp</th>\n",
       "    </tr>\n",
       "  </thead>\n",
       "  <tbody>\n",
       "    <tr>\n",
       "      <th>0</th>\n",
       "      <td>1</td>\n",
       "      <td>31</td>\n",
       "      <td>2.5</td>\n",
       "      <td>1260759144</td>\n",
       "    </tr>\n",
       "    <tr>\n",
       "      <th>1</th>\n",
       "      <td>1</td>\n",
       "      <td>1029</td>\n",
       "      <td>3.0</td>\n",
       "      <td>1260759179</td>\n",
       "    </tr>\n",
       "    <tr>\n",
       "      <th>2</th>\n",
       "      <td>1</td>\n",
       "      <td>1061</td>\n",
       "      <td>3.0</td>\n",
       "      <td>1260759182</td>\n",
       "    </tr>\n",
       "    <tr>\n",
       "      <th>3</th>\n",
       "      <td>1</td>\n",
       "      <td>1129</td>\n",
       "      <td>2.0</td>\n",
       "      <td>1260759185</td>\n",
       "    </tr>\n",
       "    <tr>\n",
       "      <th>4</th>\n",
       "      <td>1</td>\n",
       "      <td>1172</td>\n",
       "      <td>4.0</td>\n",
       "      <td>1260759205</td>\n",
       "    </tr>\n",
       "  </tbody>\n",
       "</table>\n",
       "</div>"
      ],
      "text/plain": [
       "   userId  movieId  rating   timestamp\n",
       "0       1       31     2.5  1260759144\n",
       "1       1     1029     3.0  1260759179\n",
       "2       1     1061     3.0  1260759182\n",
       "3       1     1129     2.0  1260759185\n",
       "4       1     1172     4.0  1260759205"
      ]
     },
     "execution_count": 3,
     "metadata": {},
     "output_type": "execute_result"
    }
   ],
   "source": [
    "df = pd.read_csv(path + \"ratings.csv\")\n",
    "df.head()"
   ]
  },
  {
   "cell_type": "code",
   "execution_count": 4,
   "metadata": {},
   "outputs": [],
   "source": [
    "movie_id = df[\"movieId\"].values\n",
    "user_id = df[\"userId\"].values\n",
    "rating = df[\"rating\"].values.astype(np.float32)"
   ]
  },
  {
   "cell_type": "code",
   "execution_count": 5,
   "metadata": {},
   "outputs": [],
   "source": [
    "def norm_index(array_id):\n",
    "    id_normed = {}\n",
    "    ids = 0\n",
    "\n",
    "    for i in range(0, len(array_id)):\n",
    "        val = array_id[i]\n",
    "\n",
    "        if val not in id_normed:\n",
    "            id_normed[val] = ids\n",
    "            ids += 1\n",
    "\n",
    "        array_id[i] = id_normed[val] \n",
    "    \n",
    "    return id_normed, array_id\n",
    "\n",
    "# Re-index since they are not \"compact\"\n",
    "movie_id_normed, movie_id = norm_index(movie_id)\n",
    "user_id_normed, user_id = norm_index(user_id)"
   ]
  },
  {
   "cell_type": "code",
   "execution_count": 6,
   "metadata": {},
   "outputs": [],
   "source": [
    "class ratings_dataset(Dataset):\n",
    "    def __init__(self, movie_id, user_id, rating):\n",
    "        self.len = len(movie_id)\n",
    "        self.movie_id = torch.from_numpy(movie_id).to(device)\n",
    "        self.user_id = torch.from_numpy(user_id).to(device)\n",
    "        self.rating = torch.from_numpy(rating).to(device)\n",
    "\n",
    "    def __len__(self):\n",
    "        return self.len\n",
    "\n",
    "    def __getitem__(self, idx):\n",
    "        return self.movie_id[idx], self.user_id[idx], self.rating[idx]"
   ]
  },
  {
   "cell_type": "code",
   "execution_count": 7,
   "metadata": {},
   "outputs": [],
   "source": [
    "np.random.seed(seed)\n",
    "val_size = 0.2\n",
    "idx = np.arange(0, len(rating))\n",
    "np.random.shuffle(idx)\n",
    "\n",
    "val_idx = idx[0:int(val_size * len(idx))]\n",
    "train_idx = idx[int(val_size * len(idx)):]"
   ]
  },
  {
   "cell_type": "code",
   "execution_count": 8,
   "metadata": {},
   "outputs": [],
   "source": [
    "batch_size = 128\n",
    "train_set = ratings_dataset(movie_id[train_idx], user_id[train_idx], rating[train_idx])\n",
    "train_loader = DataLoader(train_set, batch_size=batch_size, shuffle=True, num_workers=0)\n",
    "\n",
    "val_set = ratings_dataset(movie_id[val_idx], user_id[val_idx], rating[val_idx])\n",
    "val_loader = DataLoader(val_set, batch_size=batch_size, shuffle=False, num_workers=0)"
   ]
  },
  {
   "cell_type": "code",
   "execution_count": 9,
   "metadata": {},
   "outputs": [],
   "source": [
    "max_rating = torch.from_numpy(np.array([np.max(rating)])).to(device)\n",
    "min_rating = torch.from_numpy(np.array([np.min(rating)])).to(device)"
   ]
  },
  {
   "cell_type": "code",
   "execution_count": 10,
   "metadata": {},
   "outputs": [],
   "source": [
    "class collaborative_filtering(nn.Module):\n",
    "    def __init__(self, n_factors, n_users, n_movies):\n",
    "        super().__init__()\n",
    "        self.u_weight = nn.Embedding(n_users, n_factors).to(device)\n",
    "        self.u_weight.weight.data.uniform_(-0.01, 0.01)\n",
    "        \n",
    "        self.u_bias = nn.Embedding(n_users, 1).to(device)\n",
    "        self.u_bias.weight.data.uniform_(-0.01, 0.01)\n",
    "        \n",
    "        self.m_weight = nn.Embedding(n_movies, n_factors).to(device)\n",
    "        self.m_weight.weight.data.uniform_(-0.01, 0.01)\n",
    "        \n",
    "        self.m_bias = nn.Embedding(n_movies, 1).to(device)\n",
    "        self.m_bias.weight.data.uniform_(-0.01, 0.01)\n",
    "        \n",
    "    def forward(self, users, movies):\n",
    "        dot = (self.u_weight(users) * self.m_weight(movies)).sum(1)\n",
    "        res = dot + self.u_bias(users).squeeze() + self.m_bias(movies).squeeze()\n",
    "        res = F.sigmoid(res) * (max_rating - min_rating) + min_rating\n",
    "        return res"
   ]
  },
  {
   "cell_type": "code",
   "execution_count": 11,
   "metadata": {},
   "outputs": [],
   "source": [
    "torch.manual_seed(seed)\n",
    "n_users = len(set(user_id))\n",
    "n_movies = len(set(movie_id))\n",
    "n_factors = 50\n",
    "\n",
    "lr = 5e-3\n",
    "num_epochs = 10\n",
    "weight_decay = 1e-3\n",
    "\n",
    "model = collaborative_filtering(n_factors, n_users, n_movies).to(device)\n",
    "optimizer = optim.Adam(model.parameters(), lr=lr, weight_decay=weight_decay)"
   ]
  },
  {
   "cell_type": "code",
   "execution_count": 12,
   "metadata": {},
   "outputs": [
    {
     "name": "stdout",
     "output_type": "stream",
     "text": [
      "Val loss at epoch 1: 0.2319\n",
      "Val loss at epoch 2: 0.2212\n",
      "Val loss at epoch 3: 0.2193\n",
      "Val loss at epoch 4: 0.2188\n",
      "Val loss at epoch 5: 0.2189\n",
      "Val loss at epoch 6: 0.2181\n",
      "Val loss at epoch 7: 0.2186\n",
      "Val loss at epoch 8: 0.2186\n",
      "Val loss at epoch 9: 0.2186\n",
      "Val loss at epoch 10: 0.2185\n"
     ]
    }
   ],
   "source": [
    "torch.manual_seed(seed)\n",
    "for epoch in range(0, num_epochs):\n",
    "    for _, (movie_i, user_i, rating_target) in enumerate(train_loader):\n",
    "        optimizer.zero_grad()\n",
    "        output = model(user_i, movie_i)\n",
    "        loss = F.mse_loss(output, rating_target)\n",
    "        loss.backward()\n",
    "        optimizer.step()\n",
    "    \n",
    "    avg_loss = 0\n",
    "    for _, (movie_i, user_i, rating_target) in enumerate(val_loader):\n",
    "        output = model(user_i, movie_i)\n",
    "        loss = F.mse_loss(output, rating_target)\n",
    "        avg_loss += loss\n",
    "        \n",
    "    avg_loss = round(avg_loss.item() / len(train_loader), 4)\n",
    "    print(\"Val loss at epoch {}: {}\".format(epoch+1, avg_loss))"
   ]
  }
 ],
 "metadata": {
  "kernelspec": {
   "display_name": "Python 3",
   "language": "python",
   "name": "python3"
  },
  "language_info": {
   "codemirror_mode": {
    "name": "ipython",
    "version": 3
   },
   "file_extension": ".py",
   "mimetype": "text/x-python",
   "name": "python",
   "nbconvert_exporter": "python",
   "pygments_lexer": "ipython3",
   "version": "3.6.4"
  }
 },
 "nbformat": 4,
 "nbformat_minor": 2
}
