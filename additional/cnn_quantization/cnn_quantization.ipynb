{
 "cells": [
  {
   "cell_type": "code",
   "execution_count": 1,
   "metadata": {},
   "outputs": [],
   "source": [
    "import pandas as pd\n",
    "from sklearn.model_selection import train_test_split\n",
    "\n",
    "import torch\n",
    "from torch.utils.data import DataLoader\n",
    "import torch.quantization as quantization\n",
    "\n",
    "from utils.dataset import MNIST\n",
    "from utils.trainer import Trainer\n",
    "from utils.model import MobileNetv2, ConvBnRelu, ConvBn"
   ]
  },
  {
   "cell_type": "code",
   "execution_count": 2,
   "metadata": {},
   "outputs": [],
   "source": [
    "DATA_PATH = \"data/digit-recognizer/\"\n",
    "MODEL_FILE = \"data/model.pth\"\n",
    "device = \"cuda\"\n",
    "\n",
    "seed = 42\n",
    "batch_size = 256"
   ]
  },
  {
   "cell_type": "code",
   "execution_count": 3,
   "metadata": {},
   "outputs": [],
   "source": [
    "df = pd.read_csv(DATA_PATH + \"train.csv\")\n",
    "y = df[\"label\"].values\n",
    "X = df.drop(\"label\", axis=1).values\n",
    "\n",
    "X_train, X_test, y_train, y_test = train_test_split(X, y, test_size=0.3, random_state=seed)"
   ]
  },
  {
   "cell_type": "code",
   "execution_count": 4,
   "metadata": {},
   "outputs": [],
   "source": [
    "train_dataset = MNIST(X_train, y_train)\n",
    "train_loader = DataLoader(train_dataset, batch_size=batch_size, shuffle=True, num_workers=4)\n",
    "\n",
    "test_dataset = MNIST(X_test, y_test)\n",
    "test_loader = DataLoader(test_dataset, batch_size=batch_size, shuffle=False, num_workers=4)"
   ]
  },
  {
   "cell_type": "code",
   "execution_count": 5,
   "metadata": {},
   "outputs": [],
   "source": [
    "n_epochs = 6\n",
    "lr = 0.1\n",
    "\n",
    "torch.manual_seed(seed)\n",
    "model = MobileNetv2().to(device)"
   ]
  },
  {
   "cell_type": "code",
   "execution_count": 6,
   "metadata": {},
   "outputs": [
    {
     "name": "stdout",
     "output_type": "stream",
     "text": [
      "Epoch 0: train loss 0.000985, test loss 0.0003, test accuracy 0.9769\n",
      "Epoch 5: train loss 3e-06, test loss 0.000111, test accuracy 0.9915\n"
     ]
    }
   ],
   "source": [
    "trainer = Trainer(model, train_loader, test_loader, seed, lr=lr, momentum=0.9, weight_decay=4e-5)\n",
    "\n",
    "for epoch in range(0, n_epochs):\n",
    "    trainer.run_one_epoch(epoch)"
   ]
  },
  {
   "cell_type": "code",
   "execution_count": 7,
   "metadata": {},
   "outputs": [],
   "source": [
    "trainer.model = trainer.model.to(\"cpu\")\n",
    "trainer.device = \"cpu\""
   ]
  },
  {
   "cell_type": "code",
   "execution_count": 8,
   "metadata": {},
   "outputs": [
    {
     "name": "stdout",
     "output_type": "stream",
     "text": [
      "Float accruacy: 0.9915\n",
      "CPU times: user 1min 25s, sys: 39.7 s, total: 2min 5s\n",
      "Wall time: 31.6 s\n"
     ]
    }
   ],
   "source": [
    "%%time\n",
    "_, acc = trainer.validate()\n",
    "print(f\"Float accruacy: {acc}\")"
   ]
  },
  {
   "cell_type": "code",
   "execution_count": 9,
   "metadata": {},
   "outputs": [],
   "source": [
    "torch.save(model.state_dict(), MODEL_FILE)"
   ]
  },
  {
   "cell_type": "code",
   "execution_count": 10,
   "metadata": {},
   "outputs": [],
   "source": [
    "class QuantMobileNet(MobileNetv2):\n",
    "    def __init__(self):\n",
    "        super().__init__()\n",
    "        self.quant = quantization.QuantStub()\n",
    "        self.dequant = quantization.DeQuantStub()\n",
    "\n",
    "    def forward(self, x):\n",
    "        x = self.quant(x)\n",
    "        x = super().forward(x)        \n",
    "        x = self.dequant(x)\n",
    "        return x\n",
    "\n",
    "    # Fuse Conv+BN and Conv+BN+Relu modules prior to quantization\n",
    "    def fuse_model(self):\n",
    "        for module in self.modules():\n",
    "            if isinstance(module, ConvBnRelu):\n",
    "                torch.quantization.fuse_modules(module, ['conv', 'bn', 'act'], inplace=True)\n",
    "            elif isinstance(module, ConvBn):\n",
    "                torch.quantization.fuse_modules(module, ['conv', 'bn'], inplace=True)"
   ]
  },
  {
   "cell_type": "markdown",
   "metadata": {},
   "source": [
    "# Per-tensor quantization"
   ]
  },
  {
   "cell_type": "code",
   "execution_count": 11,
   "metadata": {
    "scrolled": true
   },
   "outputs": [],
   "source": [
    "# min/max range estimation and per-tensor quantization of weights\n",
    "per_tensor_quant_model = QuantMobileNet().to('cpu')\n",
    "_ = per_tensor_quant_model.load_state_dict(torch.load(MODEL_FILE))\n",
    "per_tensor_quant_model.eval()\n",
    "per_tensor_quant_model.fuse_model()"
   ]
  },
  {
   "cell_type": "code",
   "execution_count": 12,
   "metadata": {},
   "outputs": [],
   "source": [
    "per_tensor_quant_model.qconfig = quantization.default_qconfig\n",
    "_ = torch.quantization.prepare(per_tensor_quant_model, inplace=True)"
   ]
  },
  {
   "cell_type": "code",
   "execution_count": 13,
   "metadata": {},
   "outputs": [],
   "source": [
    "per_tensor_quant_trainer = Trainer(per_tensor_quant_model, train_loader, test_loader, seed, device=\"cpu\",\n",
    "                        lr=lr, momentum=0.9, weight_decay=4e-5)"
   ]
  },
  {
   "cell_type": "code",
   "execution_count": 14,
   "metadata": {},
   "outputs": [],
   "source": [
    "# Calibrating the model\n",
    "_ = per_tensor_quant_trainer.validate()"
   ]
  },
  {
   "cell_type": "code",
   "execution_count": 15,
   "metadata": {},
   "outputs": [
    {
     "name": "stderr",
     "output_type": "stream",
     "text": [
      "/home/erik/anaconda3/lib/python3.7/site-packages/torch/quantization/observer.py:131: UserWarning: must run observer before calling calculate_qparams.                                    Returning default scale and zero point \n",
      "  Returning default scale and zero point \"\n"
     ]
    }
   ],
   "source": [
    "_ = torch.quantization.convert(per_tensor_quant_trainer.model, inplace=True)"
   ]
  },
  {
   "cell_type": "code",
   "execution_count": 16,
   "metadata": {},
   "outputs": [
    {
     "name": "stdout",
     "output_type": "stream",
     "text": [
      "Per-tensor quant accruacy: 0.9916\n",
      "CPU times: user 10 s, sys: 1.24 s, total: 11.3 s\n",
      "Wall time: 2.92 s\n"
     ]
    }
   ],
   "source": [
    "%%time\n",
    "_, acc = per_tensor_quant_trainer.validate()\n",
    "print(f\"Per-tensor quant accruacy: {acc}\")"
   ]
  },
  {
   "cell_type": "markdown",
   "metadata": {},
   "source": [
    "# Channel-wise quantization"
   ]
  },
  {
   "cell_type": "code",
   "execution_count": 17,
   "metadata": {},
   "outputs": [],
   "source": [
    "per_channel_quant_model = QuantMobileNet().to('cpu')\n",
    "_ = per_channel_quant_model.load_state_dict(torch.load(MODEL_FILE))\n",
    "per_channel_quant_model.eval()\n",
    "per_channel_quant_model.fuse_model()"
   ]
  },
  {
   "cell_type": "code",
   "execution_count": 18,
   "metadata": {},
   "outputs": [],
   "source": [
    "# Channel-wise quant\n",
    "per_channel_quant_model.qconfig = torch.quantization.get_default_qconfig('fbgemm')\n",
    "_ = torch.quantization.prepare(per_channel_quant_model, inplace=True)\n",
    "\n",
    "per_channel_quant_trainer = Trainer(per_channel_quant_model, train_loader, test_loader, seed, device=\"cpu\",\n",
    "                                    lr=lr, momentum=0.9, weight_decay=4e-5)"
   ]
  },
  {
   "cell_type": "code",
   "execution_count": 19,
   "metadata": {},
   "outputs": [],
   "source": [
    "_ = per_channel_quant_trainer.validate()"
   ]
  },
  {
   "cell_type": "code",
   "execution_count": 20,
   "metadata": {},
   "outputs": [
    {
     "name": "stderr",
     "output_type": "stream",
     "text": [
      "/home/erik/anaconda3/lib/python3.7/site-packages/torch/quantization/observer.py:592: UserWarning: must run observer before calling calculate_qparams.                                    Returning default scale and zero point \n",
      "  Returning default scale and zero point \"\n"
     ]
    }
   ],
   "source": [
    "_ = torch.quantization.convert(per_channel_quant_trainer.model, inplace=True)"
   ]
  },
  {
   "cell_type": "code",
   "execution_count": 21,
   "metadata": {},
   "outputs": [
    {
     "name": "stdout",
     "output_type": "stream",
     "text": [
      "Per-tensor quant accruacy: 0.9919\n",
      "CPU times: user 10.9 s, sys: 1.25 s, total: 12.2 s\n",
      "Wall time: 3.2 s\n"
     ]
    }
   ],
   "source": [
    "%%time\n",
    "_, acc = per_channel_quant_trainer.validate()\n",
    "print(f\"Per-tensor quant accruacy: {acc}\")"
   ]
  },
  {
   "cell_type": "markdown",
   "metadata": {},
   "source": [
    "# Quantization-aware training"
   ]
  },
  {
   "cell_type": "code",
   "execution_count": 22,
   "metadata": {},
   "outputs": [],
   "source": [
    "aware_quant_model = QuantMobileNet().to('cpu')\n",
    "_ = aware_quant_model.load_state_dict(torch.load(MODEL_FILE))\n",
    "aware_quant_model.train()\n",
    "aware_quant_model.fuse_model()"
   ]
  },
  {
   "cell_type": "code",
   "execution_count": 23,
   "metadata": {},
   "outputs": [],
   "source": [
    "aware_quant_model.qconfig = torch.quantization.get_default_qconfig('fbgemm')\n",
    "_ = torch.quantization.prepare_qat(aware_quant_model, inplace=True)\n",
    "\n",
    "aware_quant_trainer = Trainer(aware_quant_model, train_loader, test_loader, seed, device=\"cpu\",\n",
    "                              lr=lr / 100, momentum=0.9)"
   ]
  },
  {
   "cell_type": "code",
   "execution_count": 24,
   "metadata": {},
   "outputs": [
    {
     "name": "stdout",
     "output_type": "stream",
     "text": [
      "Epoch 0: train loss 1.7e-05, test loss 0.00011, test accuracy 0.992\n"
     ]
    }
   ],
   "source": [
    "aware_quant_trainer.run_one_epoch(0)"
   ]
  },
  {
   "cell_type": "code",
   "execution_count": 25,
   "metadata": {},
   "outputs": [],
   "source": [
    "aware_quant_trainer.model.eval()\n",
    "_ = quantization.convert(aware_quant_trainer.model, inplace=True)"
   ]
  },
  {
   "cell_type": "code",
   "execution_count": 26,
   "metadata": {},
   "outputs": [
    {
     "name": "stdout",
     "output_type": "stream",
     "text": [
      "Aware quant accruacy: 0.9915\n",
      "CPU times: user 10.9 s, sys: 880 ms, total: 11.8 s\n",
      "Wall time: 3.13 s\n"
     ]
    }
   ],
   "source": [
    "%%time\n",
    "_, acc = aware_quant_trainer.validate()\n",
    "print(f\"Aware quant accruacy: {acc}\")"
   ]
  }
 ],
 "metadata": {
  "kernelspec": {
   "display_name": "Python 3",
   "language": "python",
   "name": "python3"
  },
  "language_info": {
   "codemirror_mode": {
    "name": "ipython",
    "version": 3
   },
   "file_extension": ".py",
   "mimetype": "text/x-python",
   "name": "python",
   "nbconvert_exporter": "python",
   "pygments_lexer": "ipython3",
   "version": "3.7.4"
  }
 },
 "nbformat": 4,
 "nbformat_minor": 2
}
